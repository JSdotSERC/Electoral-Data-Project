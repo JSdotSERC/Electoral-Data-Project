{
 "cells": [
  {
   "cell_type": "markdown",
   "metadata": {
    "application/vnd.databricks.v1+cell": {
     "cellMetadata": {
      "byteLimit": 2048000,
      "rowLimit": 10000
     },
     "inputWidgets": {},
     "nuid": "2cd9a7ef-741e-48ec-b9e4-73d25117d9e4",
     "showTitle": false,
     "tableResultSettingsMap": {},
     "title": ""
    }
   },
   "source": [
    "#Electoral Data by Candidate Notebook"
   ]
  },
  {
   "cell_type": "markdown",
   "metadata": {
    "application/vnd.databricks.v1+cell": {
     "cellMetadata": {
      "byteLimit": 2048000,
      "rowLimit": 10000
     },
     "inputWidgets": {},
     "nuid": "436a9046-9d01-402e-8c90-df1afbf61606",
     "showTitle": false,
     "tableResultSettingsMap": {},
     "title": ""
    }
   },
   "source": [
    "#1. Loading, Cleaning, and Exporting Data"
   ]
  },
  {
   "cell_type": "markdown",
   "metadata": {
    "application/vnd.databricks.v1+cell": {
     "cellMetadata": {
      "byteLimit": 2048000,
      "rowLimit": 10000
     },
     "inputWidgets": {},
     "nuid": "93f9c28f-6002-4c51-a46e-090e764aedef",
     "showTitle": false,
     "tableResultSettingsMap": {},
     "title": ""
    }
   },
   "source": [
    "##1.1 Code Imports"
   ]
  },
  {
   "cell_type": "code",
   "execution_count": 0,
   "metadata": {
    "application/vnd.databricks.v1+cell": {
     "cellMetadata": {
      "byteLimit": 2048000,
      "rowLimit": 10000
     },
     "inputWidgets": {},
     "nuid": "f310fa26-8291-465a-b7bf-0aa43fbed416",
     "showTitle": false,
     "tableResultSettingsMap": {},
     "title": ""
    }
   },
   "outputs": [],
   "source": [
    "from pyspark.sql.functions import col\n",
    "from pyspark.sql.functions import count\n",
    "from pyspark.sql.functions import concat_ws\n",
    "from pyspark.sql.functions import trim, upper\n",
    "from pyspark.sql.functions import col, when"
   ]
  },
  {
   "cell_type": "markdown",
   "metadata": {
    "application/vnd.databricks.v1+cell": {
     "cellMetadata": {
      "byteLimit": 2048000,
      "rowLimit": 10000
     },
     "inputWidgets": {},
     "nuid": "528e775a-0151-47da-a224-d82fc75548de",
     "showTitle": false,
     "tableResultSettingsMap": {},
     "title": ""
    }
   },
   "source": [
    "##1.2 Preparing to Import Data"
   ]
  },
  {
   "cell_type": "markdown",
   "metadata": {
    "application/vnd.databricks.v1+cell": {
     "cellMetadata": {
      "byteLimit": 2048000,
      "rowLimit": 10000
     },
     "inputWidgets": {},
     "nuid": "8ed406e2-07cd-4c2e-b6f8-8bb208c0c4ea",
     "showTitle": false,
     "tableResultSettingsMap": {},
     "title": ""
    }
   },
   "source": [
    "###1.3 Checking secrets"
   ]
  },
  {
   "cell_type": "code",
   "execution_count": 0,
   "metadata": {
    "application/vnd.databricks.v1+cell": {
     "cellMetadata": {
      "byteLimit": 2048000,
      "rowLimit": 10000
     },
     "inputWidgets": {},
     "nuid": "0c84e667-803c-4ccb-babb-6b179525406d",
     "showTitle": false,
     "tableResultSettingsMap": {},
     "title": ""
    }
   },
   "outputs": [],
   "source": [
    "dbutils.secrets.listScopes()"
   ]
  },
  {
   "cell_type": "markdown",
   "metadata": {
    "application/vnd.databricks.v1+cell": {
     "cellMetadata": {
      "byteLimit": 2048000,
      "rowLimit": 10000
     },
     "inputWidgets": {},
     "nuid": "dc8c1055-5571-4c7b-ae9e-cf87b7666ef0",
     "showTitle": false,
     "tableResultSettingsMap": {},
     "title": ""
    }
   },
   "source": [
    "###1.4 Testing file pathways"
   ]
  },
  {
   "cell_type": "code",
   "execution_count": 0,
   "metadata": {
    "application/vnd.databricks.v1+cell": {
     "cellMetadata": {
      "byteLimit": 2048000,
      "rowLimit": 10000
     },
     "collapsed": true,
     "inputWidgets": {},
     "nuid": "f7f069f0-12e7-432e-9bdd-c479cdaa6b00",
     "showTitle": false,
     "tableResultSettingsMap": {},
     "title": ""
    }
   },
   "outputs": [],
   "source": [
    "dbutils.fs.ls(\"/mnt/Election_Data_Cand/rawdata/\")"
   ]
  },
  {
   "cell_type": "code",
   "execution_count": 0,
   "metadata": {
    "application/vnd.databricks.v1+cell": {
     "cellMetadata": {
      "byteLimit": 2048000,
      "rowLimit": 10000
     },
     "collapsed": true,
     "inputWidgets": {},
     "nuid": "a0869e4e-ff24-46cc-8f4b-ca7c320bc54a",
     "showTitle": false,
     "tableResultSettingsMap": {},
     "title": ""
    }
   },
   "outputs": [],
   "source": [
    "dbutils.fs.ls(\"/mnt/Election_Data_Const/rawdata/\")"
   ]
  },
  {
   "cell_type": "markdown",
   "metadata": {
    "application/vnd.databricks.v1+cell": {
     "cellMetadata": {
      "byteLimit": 2048000,
      "rowLimit": 10000
     },
     "inputWidgets": {},
     "nuid": "c67f5b49-9e37-4d59-a840-6b7a2d981ec3",
     "showTitle": false,
     "tableResultSettingsMap": {},
     "title": ""
    }
   },
   "source": [
    "##1.5 Importing Datasets"
   ]
  },
  {
   "cell_type": "markdown",
   "metadata": {
    "application/vnd.databricks.v1+cell": {
     "cellMetadata": {
      "byteLimit": 2048000,
      "rowLimit": 10000
     },
     "inputWidgets": {},
     "nuid": "03d726c4-a746-434b-acba-012380d0f355",
     "showTitle": false,
     "tableResultSettingsMap": {},
     "title": ""
    }
   },
   "source": [
    "###Mounting data"
   ]
  },
  {
   "cell_type": "code",
   "execution_count": 0,
   "metadata": {
    "application/vnd.databricks.v1+cell": {
     "cellMetadata": {
      "byteLimit": 2048000,
      "rowLimit": 10000
     },
     "collapsed": true,
     "inputWidgets": {},
     "nuid": "901909e1-818d-4a68-99a0-7fe10b7ee745",
     "showTitle": false,
     "tableResultSettingsMap": {},
     "title": ""
    },
    "jupyter": {
     "outputs_hidden": true
    }
   },
   "outputs": [],
   "source": [
    "#SKIPPED AS DATA ALREADY MOUNTED\n",
    "\n",
    "#dbutils.fs.mount(\n",
    "#    source='wasbs://electoraldatabycandidate@electoraldatastorage.blob.core.windows.net',\n",
    "#    mount_point='/mnt/Election_Data_Cand',\n",
    "#    extra_configs = {'fs.azure.account.key.electoraldatastorage.blob.core.windows.net':\n",
    "#                    dbutils.secrets.get('electoraldatascope', 'ElectoralStorageSecret')} \n",
    "#)\n"
   ]
  },
  {
   "cell_type": "code",
   "execution_count": 0,
   "metadata": {
    "application/vnd.databricks.v1+cell": {
     "cellMetadata": {
      "byteLimit": 2048000,
      "rowLimit": 10000
     },
     "inputWidgets": {},
     "nuid": "3ae568d2-0703-46fb-871f-627c4fe24234",
     "showTitle": false,
     "tableResultSettingsMap": {},
     "title": ""
    }
   },
   "outputs": [],
   "source": [
    "#SKIPPED AS DATA ALREADY MOUNTED\n",
    "\n",
    "#dbutils.fs.mount(\n",
    "#    source='wasbs://electoraldatabyconstituency@electoraldatastorage.blob.core.windows.net',\n",
    "#    mount_point='/mnt/Election_Data_Const',\n",
    "#    extra_configs = {'fs.azure.account.key.electoraldatastorage.blob.core.windows.net':\n",
    "#                     dbutils.secrets.get('electoraldatascope', 'ElectoralStorageSecret')} \n",
    "#)"
   ]
  },
  {
   "cell_type": "markdown",
   "metadata": {
    "application/vnd.databricks.v1+cell": {
     "cellMetadata": {
      "byteLimit": 2048000,
      "rowLimit": 10000
     },
     "inputWidgets": {},
     "nuid": "847cae8f-80b7-406c-a4ae-3619008780bb",
     "showTitle": false,
     "tableResultSettingsMap": {},
     "title": ""
    }
   },
   "source": [
    "##1.6 Cleaning Datasets"
   ]
  },
  {
   "cell_type": "markdown",
   "metadata": {
    "application/vnd.databricks.v1+cell": {
     "cellMetadata": {
      "byteLimit": 2048000,
      "rowLimit": 10000
     },
     "inputWidgets": {},
     "nuid": "19494664-5d12-4697-9cfd-7e460d500010",
     "showTitle": false,
     "tableResultSettingsMap": {},
     "title": ""
    }
   },
   "source": [
    "###Loading and cleaning 2024 By Constituency data"
   ]
  },
  {
   "cell_type": "code",
   "execution_count": 0,
   "metadata": {
    "application/vnd.databricks.v1+cell": {
     "cellMetadata": {
      "byteLimit": 2048000,
      "rowLimit": 10000
     },
     "inputWidgets": {},
     "nuid": "00b8551c-2151-435b-8321-f40dc2e15459",
     "showTitle": false,
     "tableResultSettingsMap": {},
     "title": ""
    }
   },
   "outputs": [],
   "source": [
    "ByConst24_DF = spark.read.format(\"csv\").option(\"header\", \"true\").load(\"/mnt/Election_Data_Const/rawdata/2024GE by constituency.csv\")\n",
    "\n",
    "ByConst24_DF.show()"
   ]
  },
  {
   "cell_type": "code",
   "execution_count": 0,
   "metadata": {
    "application/vnd.databricks.v1+cell": {
     "cellMetadata": {
      "byteLimit": 2048000,
      "rowLimit": 10000
     },
     "inputWidgets": {},
     "nuid": "be2f7b69-8da0-4604-b5d1-edec8c4c0b2c",
     "showTitle": false,
     "tableResultSettingsMap": {},
     "title": ""
    }
   },
   "outputs": [],
   "source": [
    "ByConst24_DF.printSchema()"
   ]
  },
  {
   "cell_type": "code",
   "execution_count": 0,
   "metadata": {
    "application/vnd.databricks.v1+cell": {
     "cellMetadata": {
      "byteLimit": 2048000,
      "rowLimit": 10000
     },
     "inputWidgets": {},
     "nuid": "18e085ce-68f7-4679-ac7e-cb061809ad69",
     "showTitle": false,
     "tableResultSettingsMap": {},
     "title": ""
    }
   },
   "outputs": [],
   "source": [
    "ByConst24_DF_droppedcols = ByConst24_DF.drop(\"ONS region ID\",\"Constituency type\",\"Declaration time\",\"Member gender\",\"SNP\",\"PC\",\"DUP\",\"SF\",\"SDLP\",\"UUP\",\"APNI\")\n",
    "\n",
    "ByConst24_DF_droppedcols.printSchema()"
   ]
  },
  {
   "cell_type": "code",
   "execution_count": 0,
   "metadata": {
    "application/vnd.databricks.v1+cell": {
     "cellMetadata": {
      "byteLimit": 2048000,
      "rowLimit": 10000
     },
     "inputWidgets": {},
     "nuid": "e03dd891-b74e-49cb-8ed2-52a5cb422977",
     "showTitle": false,
     "tableResultSettingsMap": {},
     "title": ""
    }
   },
   "outputs": [],
   "source": [
    "ByConst24_DF_clean = ByConst24_DF_droppedcols.withColumn(\"Electorate\", col(\"Electorate\").cast(\"int\")) \\\n",
    "                                    .withColumn(\"Valid votes\", col(\"Valid votes\").cast(\"int\")) \\\n",
    "                                    .withColumn(\"Invalid votes\", col(\"Invalid votes\").cast(\"int\")) \\\n",
    "                                    .withColumn(\"Majority\", col(\"Majority\").cast(\"int\")) \\\n",
    "                                    .withColumn(\"Con\", col(\"Con\").cast(\"int\")) \\\n",
    "                                    .withColumn(\"Lab\", col(\"Lab\").cast(\"int\")) \\\n",
    "                                    .withColumn(\"LD\", col(\"LD\").cast(\"int\")) \\\n",
    "                                    .withColumn(\"RUK\", col(\"RUK\").cast(\"int\")) \\\n",
    "                                    .withColumn(\"Green\", col(\"Green\").cast(\"int\")) \\\n",
    "                                    .withColumn(\"All other candidates\", col(\"All other candidates\").cast(\"int\")) \\\n",
    "                                    .withColumn(\"Of which other winner\", col(\"Of which other winner\").cast(\"int\"))\n",
    "\n",
    "ByConst24_DF_clean.printSchema()"
   ]
  },
  {
   "cell_type": "code",
   "execution_count": 0,
   "metadata": {
    "application/vnd.databricks.v1+cell": {
     "cellMetadata": {
      "byteLimit": 2048000,
      "rowLimit": 10000
     },
     "collapsed": true,
     "inputWidgets": {},
     "nuid": "5ab0974a-87fe-4782-9992-d0de4a8d82f3",
     "showTitle": false,
     "tableResultSettingsMap": {},
     "title": ""
    }
   },
   "outputs": [],
   "source": [
    "ByConst24_DF_clean.show()"
   ]
  },
  {
   "cell_type": "markdown",
   "metadata": {
    "application/vnd.databricks.v1+cell": {
     "cellMetadata": {
      "byteLimit": 2048000,
      "rowLimit": 10000
     },
     "inputWidgets": {},
     "nuid": "0f7cc55c-fa99-42ae-9478-9b9cfa119aba",
     "showTitle": false,
     "tableResultSettingsMap": {},
     "title": ""
    }
   },
   "source": [
    "###Loading and cleaning 2019 By Constituency data"
   ]
  },
  {
   "cell_type": "code",
   "execution_count": 0,
   "metadata": {
    "application/vnd.databricks.v1+cell": {
     "cellMetadata": {
      "byteLimit": 2048000,
      "rowLimit": 10000
     },
     "inputWidgets": {},
     "nuid": "952bcc6a-d1f7-48db-9e5e-d5737d4cacac",
     "showTitle": false,
     "tableResultSettingsMap": {},
     "title": ""
    }
   },
   "outputs": [],
   "source": [
    "ByConst19_DF = spark.read.format(\"csv\").option(\"header\", \"true\").load(\"/mnt/Election_Data_Const/rawdata/2019GE by constituency.csv\")\n",
    "\n",
    "ByConst19_DF.show()"
   ]
  },
  {
   "cell_type": "code",
   "execution_count": 0,
   "metadata": {
    "application/vnd.databricks.v1+cell": {
     "cellMetadata": {
      "byteLimit": 2048000,
      "rowLimit": 10000
     },
     "inputWidgets": {},
     "nuid": "64d00f14-d4d1-4599-b4ed-a8cc02352446",
     "showTitle": false,
     "tableResultSettingsMap": {},
     "title": ""
    }
   },
   "outputs": [],
   "source": [
    "ByConst19_DF.printSchema()"
   ]
  },
  {
   "cell_type": "code",
   "execution_count": 0,
   "metadata": {
    "application/vnd.databricks.v1+cell": {
     "cellMetadata": {
      "byteLimit": 2048000,
      "rowLimit": 10000
     },
     "inputWidgets": {},
     "nuid": "b63ce95e-c113-48ba-a53b-4d681c6c46a9",
     "showTitle": false,
     "tableResultSettingsMap": {},
     "title": ""
    }
   },
   "outputs": [],
   "source": [
    "ByConst19_DF_droppedcols = ByConst19_DF.drop(\"ONS region ID\",\"Constituency type\",\"Declaration time\",\"Member gender\",\"SNP\",\"PC\",\"DUP\",\"SF\",\"SDLP\",\"UUP\",\"APNI\")\n",
    "\n",
    "ByConst19_DF_droppedcols.printSchema()"
   ]
  },
  {
   "cell_type": "code",
   "execution_count": 0,
   "metadata": {
    "application/vnd.databricks.v1+cell": {
     "cellMetadata": {
      "byteLimit": 2048000,
      "rowLimit": 10000
     },
     "inputWidgets": {},
     "nuid": "646e1f68-5d44-47e5-8f23-86eff7c0d00c",
     "showTitle": false,
     "tableResultSettingsMap": {},
     "title": ""
    }
   },
   "outputs": [],
   "source": [
    "ByConst19_DF_clean = ByConst19_DF_droppedcols.withColumn(\"Electorate\", col(\"Electorate\").cast(\"int\")) \\\n",
    "                                    .withColumn(\"Valid votes\", col(\"Valid votes\").cast(\"int\")) \\\n",
    "                                    .withColumn(\"Invalid votes\", col(\"Invalid votes\").cast(\"int\")) \\\n",
    "                                    .withColumn(\"Majority\", col(\"Majority\").cast(\"int\")) \\\n",
    "                                    .withColumn(\"Con\", col(\"Con\").cast(\"int\")) \\\n",
    "                                    .withColumn(\"Lab\", col(\"Lab\").cast(\"int\")) \\\n",
    "                                    .withColumn(\"LD\", col(\"LD\").cast(\"int\")) \\\n",
    "                                    .withColumn(\"BRX\", col(\"BRX\").cast(\"int\")) \\\n",
    "                                    .withColumn(\"Green\", col(\"Green\").cast(\"int\")) \\\n",
    "                                    .withColumn(\"All other candidates\", col(\"All other candidates\").cast(\"int\")) \\\n",
    "                                    .withColumn(\"Of which other winner\", col(\"Of which other winner\").cast(\"int\"))\n",
    "\n",
    "ByConst19_DF_clean.printSchema()"
   ]
  },
  {
   "cell_type": "code",
   "execution_count": 0,
   "metadata": {
    "application/vnd.databricks.v1+cell": {
     "cellMetadata": {
      "byteLimit": 2048000,
      "rowLimit": 10000
     },
     "inputWidgets": {},
     "nuid": "d3301333-62fb-43c8-897d-afd37c6e559a",
     "showTitle": false,
     "tableResultSettingsMap": {},
     "title": ""
    }
   },
   "outputs": [],
   "source": [
    "ByConst19_DF_clean.show()"
   ]
  },
  {
   "cell_type": "markdown",
   "metadata": {
    "application/vnd.databricks.v1+cell": {
     "cellMetadata": {
      "byteLimit": 2048000,
      "rowLimit": 10000
     },
     "inputWidgets": {},
     "nuid": "5ae052d4-88c5-4649-891c-187a2fdb2ee3",
     "showTitle": false,
     "tableResultSettingsMap": {},
     "title": ""
    }
   },
   "source": [
    "###Loading and cleaning 2024 By Candidate data"
   ]
  },
  {
   "cell_type": "code",
   "execution_count": 0,
   "metadata": {
    "application/vnd.databricks.v1+cell": {
     "cellMetadata": {
      "byteLimit": 2048000,
      "rowLimit": 10000
     },
     "inputWidgets": {},
     "nuid": "e72b645e-a6ce-4c58-bb2e-515c5cbbfbc1",
     "showTitle": false,
     "tableResultSettingsMap": {},
     "title": ""
    }
   },
   "outputs": [],
   "source": [
    "ByCand24_DF = spark.read.format(\"csv\").option(\"header\", \"true\").load(\"/mnt/Election_Data_Cand/rawdata/2024GE by candidates.csv\")\n",
    "\n",
    "ByCand24_DF.show()"
   ]
  },
  {
   "cell_type": "code",
   "execution_count": 0,
   "metadata": {
    "application/vnd.databricks.v1+cell": {
     "cellMetadata": {
      "byteLimit": 2048000,
      "rowLimit": 10000
     },
     "inputWidgets": {},
     "nuid": "6173091d-3bf6-4f45-b944-744f60afa407",
     "showTitle": false,
     "tableResultSettingsMap": {},
     "title": ""
    }
   },
   "outputs": [],
   "source": [
    "ByCand24_DF.printSchema()"
   ]
  },
  {
   "cell_type": "code",
   "execution_count": 0,
   "metadata": {
    "application/vnd.databricks.v1+cell": {
     "cellMetadata": {
      "byteLimit": 2048000,
      "rowLimit": 10000
     },
     "inputWidgets": {},
     "nuid": "24d857d4-fbe8-4171-aef0-5cf172b47600",
     "showTitle": false,
     "tableResultSettingsMap": {},
     "title": ""
    }
   },
   "outputs": [],
   "source": [
    "ByCand24_DF_droppedcols = ByCand24_DF.drop(\"ONS region ID\",\"Constituency type\",\"Electoral Commission party ID\",\"MNIS party ID\",\"Electoral Commission adjunct party ID\",\"Candidate gender\",\"Member MNIS ID\",\"DC Person ID\")\n",
    "\n",
    "ByCand24_DF_droppedcols.printSchema()"
   ]
  },
  {
   "cell_type": "code",
   "execution_count": 0,
   "metadata": {
    "application/vnd.databricks.v1+cell": {
     "cellMetadata": {
      "byteLimit": 2048000,
      "rowLimit": 10000
     },
     "inputWidgets": {},
     "nuid": "206a7f8e-007b-411c-8fdd-cb74fcf65955",
     "showTitle": false,
     "tableResultSettingsMap": {},
     "title": ""
    }
   },
   "outputs": [],
   "source": [
    "ByCand24_DF_clean = ByCand24_DF_droppedcols.withColumn(\"Votes\", col(\"Votes\").cast(\"int\")) \\\n",
    "                                    .withColumn(\"Share\", col(\"Share\").cast(\"decimal(18,6)\")) \\\n",
    "                                    .withColumn(\"Change\", col(\"Change\").cast(\"decimal(18,6)\")) \\\n",
    "\n",
    "ByCand24_DF_clean.printSchema()"
   ]
  },
  {
   "cell_type": "code",
   "execution_count": 0,
   "metadata": {
    "application/vnd.databricks.v1+cell": {
     "cellMetadata": {
      "byteLimit": 2048000,
      "rowLimit": 10000
     },
     "inputWidgets": {},
     "nuid": "931088bb-2aee-46bf-936d-44c3cf45a1c1",
     "showTitle": false,
     "tableResultSettingsMap": {},
     "title": ""
    }
   },
   "outputs": [],
   "source": [
    "ByCand24_DF_clean.show()"
   ]
  },
  {
   "cell_type": "markdown",
   "metadata": {
    "application/vnd.databricks.v1+cell": {
     "cellMetadata": {
      "byteLimit": 2048000,
      "rowLimit": 10000
     },
     "inputWidgets": {},
     "nuid": "2ab18bf7-8e67-4765-8145-ec3a0d7dca67",
     "showTitle": false,
     "tableResultSettingsMap": {},
     "title": ""
    }
   },
   "source": [
    "###Loading and cleaning 2019 By Candidate data"
   ]
  },
  {
   "cell_type": "code",
   "execution_count": 0,
   "metadata": {
    "application/vnd.databricks.v1+cell": {
     "cellMetadata": {
      "byteLimit": 2048000,
      "rowLimit": 10000
     },
     "collapsed": true,
     "inputWidgets": {},
     "nuid": "cfbbb7f6-5f82-446d-8398-0be50ece94ea",
     "showTitle": false,
     "tableResultSettingsMap": {},
     "title": ""
    }
   },
   "outputs": [],
   "source": [
    "ByCand19_DF = spark.read.format(\"csv\").option(\"header\", \"true\").load(\"/mnt/Election_Data_Cand/rawdata/2019GE by candidates.csv\")\n",
    "\n",
    "ByCand19_DF.show()"
   ]
  },
  {
   "cell_type": "code",
   "execution_count": 0,
   "metadata": {
    "application/vnd.databricks.v1+cell": {
     "cellMetadata": {
      "byteLimit": 2048000,
      "rowLimit": 10000
     },
     "inputWidgets": {},
     "nuid": "a9388bcc-e6a7-4389-9d32-938ed990a488",
     "showTitle": false,
     "tableResultSettingsMap": {},
     "title": ""
    }
   },
   "outputs": [],
   "source": [
    "ByCand19_DF.printSchema()"
   ]
  },
  {
   "cell_type": "code",
   "execution_count": 0,
   "metadata": {
    "application/vnd.databricks.v1+cell": {
     "cellMetadata": {
      "byteLimit": 2048000,
      "rowLimit": 10000
     },
     "inputWidgets": {},
     "nuid": "330ae6e2-3cfe-4791-884b-1626f30aa58e",
     "showTitle": false,
     "tableResultSettingsMap": {},
     "title": ""
    }
   },
   "outputs": [],
   "source": [
    "ByCand19_DF_droppedcols = ByCand19_DF.drop(\"ONS region ID\",\"Constituency type\",\"Electoral Commission party ID\",\"MNIS party ID\",\"Electoral Commission adjunct party ID\",\"Candidate gender\",\"Member MNIS ID\")\n",
    "\n",
    "ByCand19_DF_droppedcols.printSchema()"
   ]
  },
  {
   "cell_type": "code",
   "execution_count": 0,
   "metadata": {
    "application/vnd.databricks.v1+cell": {
     "cellMetadata": {
      "byteLimit": 2048000,
      "rowLimit": 10000
     },
     "inputWidgets": {},
     "nuid": "e1044560-9bc7-42ec-a7dc-d5259ba886d5",
     "showTitle": false,
     "tableResultSettingsMap": {},
     "title": ""
    }
   },
   "outputs": [],
   "source": [
    "ByCand19_DF_clean = ByCand19_DF_droppedcols.withColumn(\"Votes\", col(\"Votes\").cast(\"int\")) \\\n",
    "                                    .withColumn(\"Share\", col(\"Share\").cast(\"decimal(18,6)\")) \\\n",
    "                                    .withColumn(\"Change\", col(\"Change\").cast(\"decimal(18,6)\")) \\\n",
    "\n",
    "ByCand19_DF_clean.printSchema()"
   ]
  },
  {
   "cell_type": "code",
   "execution_count": 0,
   "metadata": {
    "application/vnd.databricks.v1+cell": {
     "cellMetadata": {
      "byteLimit": 2048000,
      "rowLimit": 10000
     },
     "inputWidgets": {},
     "nuid": "e03baa23-aa08-4873-8427-090efd962a6b",
     "showTitle": false,
     "tableResultSettingsMap": {},
     "title": ""
    }
   },
   "outputs": [],
   "source": [
    "ByCand19_DF_clean.show()"
   ]
  },
  {
   "cell_type": "markdown",
   "metadata": {
    "application/vnd.databricks.v1+cell": {
     "cellMetadata": {
      "byteLimit": 2048000,
      "rowLimit": 10000
     },
     "inputWidgets": {},
     "nuid": "f381a4ad-aa53-41a7-854e-043d1747400c",
     "showTitle": false,
     "tableResultSettingsMap": {},
     "title": ""
    }
   },
   "source": [
    "##1.7 Filtering Clean Datasets"
   ]
  },
  {
   "cell_type": "markdown",
   "metadata": {
    "application/vnd.databricks.v1+cell": {
     "cellMetadata": {
      "byteLimit": 2048000,
      "rowLimit": 10000
     },
     "inputWidgets": {},
     "nuid": "9391c52f-1e9f-431c-856f-9be5070933b6",
     "showTitle": false,
     "tableResultSettingsMap": {},
     "title": ""
    }
   },
   "source": [
    "###1.8 Extracting Data for England"
   ]
  },
  {
   "cell_type": "code",
   "execution_count": 0,
   "metadata": {
    "application/vnd.databricks.v1+cell": {
     "cellMetadata": {
      "byteLimit": 2048000,
      "rowLimit": 10000
     },
     "collapsed": true,
     "inputWidgets": {},
     "nuid": "83fbe14a-efd7-4515-b947-1dcc7afea5f1",
     "showTitle": false,
     "tableResultSettingsMap": {},
     "title": ""
    }
   },
   "outputs": [],
   "source": [
    "ByCand24_England = ByCand24_DF_clean.filter(ByCand24_DF_clean[\"Country name\"] == \"England\")\n",
    "ByCand19_England = ByCand19_DF_clean.filter(ByCand19_DF_clean[\"Country name\"] == \"England\")\n",
    "ByConst24_England = ByConst24_DF_clean.filter(ByConst24_DF_clean[\"Country name\"] == \"England\")\n",
    "ByConst19_England = ByConst19_DF_clean.filter(ByConst19_DF_clean[\"Country name\"] == \"England\")\n",
    "\n",
    "ByConst19_England.show()"
   ]
  },
  {
   "cell_type": "markdown",
   "metadata": {
    "application/vnd.databricks.v1+cell": {
     "cellMetadata": {
      "byteLimit": 2048000,
      "rowLimit": 10000
     },
     "inputWidgets": {},
     "nuid": "a3f0cd4b-6617-4e45-a7c0-07eb78a2dc26",
     "showTitle": false,
     "tableResultSettingsMap": {},
     "title": ""
    }
   },
   "source": [
    "####Checking record count after filtering (cross-checking with Azure SQL)"
   ]
  },
  {
   "cell_type": "code",
   "execution_count": 0,
   "metadata": {
    "application/vnd.databricks.v1+cell": {
     "cellMetadata": {
      "byteLimit": 2048000,
      "rowLimit": 10000
     },
     "collapsed": true,
     "inputWidgets": {},
     "nuid": "49da11e1-4baf-45bd-bb93-60bec401b605",
     "showTitle": false,
     "tableResultSettingsMap": {},
     "title": ""
    }
   },
   "outputs": [],
   "source": [
    "record_countConst24 = ByConst24_England.count()\n",
    "record_countConst19 = ByConst19_England.count()\n",
    "record_countCand24 = ByCand24_England.count()\n",
    "record_countCand19 = ByCand19_England.count()\n",
    "\n",
    "print(f\"Number of records: {record_countCand24}\")\n",
    "print(f\"Number of records: {record_countCand19}\")\n",
    "print(f\"Number of records: {record_countConst24}\")\n",
    "print(f\"Number of records: {record_countConst19}\")"
   ]
  },
  {
   "cell_type": "markdown",
   "metadata": {
    "application/vnd.databricks.v1+cell": {
     "cellMetadata": {
      "byteLimit": 2048000,
      "rowLimit": 10000
     },
     "inputWidgets": {},
     "nuid": "ac4ea684-ad3f-4de6-a7fa-604d92bce9d1",
     "showTitle": false,
     "tableResultSettingsMap": {},
     "title": ""
    }
   },
   "source": [
    "###1.9 Exporting Clean Data to Azure Data Lake"
   ]
  },
  {
   "cell_type": "code",
   "execution_count": 0,
   "metadata": {
    "application/vnd.databricks.v1+cell": {
     "cellMetadata": {
      "byteLimit": 2048000,
      "rowLimit": 10000
     },
     "inputWidgets": {},
     "nuid": "a9f59713-face-4306-9dee-e731e508b581",
     "showTitle": false,
     "tableResultSettingsMap": {},
     "title": ""
    }
   },
   "outputs": [],
   "source": [
    "#SKIPPED data already loaded - use overwrite \n",
    "\n",
    "#ByCand24_England.write.option(\"header\", 'True').csv(\"/mnt/Election_Data_Cand/transformeddata/2024 Candidate Data For England\")\n",
    "#ByCand19_England.write.option(\"header\", 'True').csv(\"/mnt/Election_Data_Cand/transformeddata/2019 Candidate Data For England\")\n",
    "\n",
    "#ByConst24_England.write.option(\"header\", 'True').csv(\"/mnt/Election_Data_Const/transformeddata/2024 Constituency Data For England\")\n",
    "#ByConst19_England.write.option(\"header\", 'True').csv(\"/mnt/Election_Data_Const/transformeddata/2019 Constituency Data For England\")"
   ]
  },
  {
   "cell_type": "markdown",
   "metadata": {
    "application/vnd.databricks.v1+cell": {
     "cellMetadata": {
      "byteLimit": 2048000,
      "rowLimit": 10000
     },
     "inputWidgets": {},
     "nuid": "a063bdfa-81c5-445e-8616-43a915db15e8",
     "showTitle": false,
     "tableResultSettingsMap": {},
     "title": ""
    }
   },
   "source": [
    "#2. Creating Visualisations"
   ]
  },
  {
   "cell_type": "markdown",
   "metadata": {
    "application/vnd.databricks.v1+cell": {
     "cellMetadata": {
      "byteLimit": 2048000,
      "rowLimit": 10000
     },
     "inputWidgets": {},
     "nuid": "7641c8e1-a471-413c-a675-46e70572163e",
     "showTitle": false,
     "tableResultSettingsMap": {},
     "title": ""
    }
   },
   "source": [
    "##2.1 Which parties should be priority targets for campaigning efforts?"
   ]
  },
  {
   "cell_type": "markdown",
   "metadata": {
    "application/vnd.databricks.v1+cell": {
     "cellMetadata": {
      "byteLimit": 2048000,
      "rowLimit": 10000
     },
     "inputWidgets": {},
     "nuid": "050d191d-1b24-4b1c-8353-9ca665689423",
     "showTitle": false,
     "tableResultSettingsMap": {},
     "title": ""
    }
   },
   "source": [
    "###Runners up in constituencies won by Labour in 2024 and 2019"
   ]
  },
  {
   "cell_type": "code",
   "execution_count": 0,
   "metadata": {
    "application/vnd.databricks.v1+cell": {
     "cellMetadata": {
      "byteLimit": 2048000,
      "rowLimit": 10000
     },
     "inputWidgets": {},
     "nuid": "4194c8b7-dfc1-45b1-b83f-6b427dc05282",
     "showTitle": false,
     "tableResultSettingsMap": {},
     "title": ""
    }
   },
   "outputs": [
    {
     "output_type": "display_data",
     "data": {
      "text/plain": [
       "Databricks visualization. Run in Databricks to view."
      ]
     },
     "metadata": {
      "application/vnd.databricks.v1.subcommand+json": {
       "baseErrorDetails": null,
       "bindings": {},
       "collapsed": false,
       "command": "%python\n__backend_agg_display_orig = display\n__backend_agg_dfs = []\ndef __backend_agg_display_new(df):\n    __backend_agg_df_modules = [\"pandas.core.frame\", \"databricks.koalas.frame\", \"pyspark.sql.dataframe\", \"pyspark.pandas.frame\", \"pyspark.sql.connect.dataframe\"]\n    if (type(df).__module__ in __backend_agg_df_modules and type(df).__name__ == 'DataFrame') or isinstance(df, list):\n        __backend_agg_dfs.append(df)\n\ndisplay = __backend_agg_display_new\n\ndef __backend_agg_user_code_fn():\n    import base64\n    exec(base64.standard_b64decode(\"bGFiX3NlYXRzX3dvbjI0ID0gQnlDb25zdDI0X0VuZ2xhbmQuZmlsdGVyKEJ5Q29uc3QyNF9FbmdsYW5kWyJGaXJzdCBwYXJ0eSJdID09ICJMYWIiKQpsYWJfc2VhdHNfd29uMTkgPSBCeUNvbnN0MTlfRW5nbGFuZC5maWx0ZXIoQnlDb25zdDE5X0VuZ2xhbmRbIkZpcnN0IHBhcnR5Il0gPT0gIkxhYiIpCgpydW5uZXJzX3VwMjQgPSBsYWJfc2VhdHNfd29uMjQuZ3JvdXBCeSgiU2Vjb25kIHBhcnR5IikuY291bnQoKQpydW5uZXJzX3VwMTkgPSBsYWJfc2VhdHNfd29uMTkuZ3JvdXBCeSgiU2Vjb25kIHBhcnR5IikuY291bnQoKQoKcnVubmVyc191cDI0LnNob3coKQpkaXNwbGF5KHJ1bm5lcnNfdXAyNCkKcnVubmVyc191cDE5LnNob3coKQpkaXNwbGF5KHJ1bm5lcnNfdXAxOSk=\").decode())\n\ntry:\n    # run user code\n    __backend_agg_user_code_fn()\n\n    #reset display function\n    display = __backend_agg_display_orig\n\n    if len(__backend_agg_dfs) > 1:\n        # create a temp view\n        if type(__backend_agg_dfs[1]).__module__ == \"databricks.koalas.frame\":\n            # koalas dataframe\n            __backend_agg_dfs[1].to_spark().createOrReplaceTempView(\"DatabricksViewbd959e6\")\n        elif type(__backend_agg_dfs[1]).__module__ == \"pandas.core.frame\" or isinstance(__backend_agg_dfs[1], list):\n            # pandas dataframe\n            spark.createDataFrame(__backend_agg_dfs[1]).createOrReplaceTempView(\"DatabricksViewbd959e6\")\n        else:\n            __backend_agg_dfs[1].createOrReplaceTempView(\"DatabricksViewbd959e6\")\n        #run backend agg\n        display(spark.sql(\"\"\"WITH q AS (select * from DatabricksViewbd959e6) SELECT `Second party`,SUM(`count`) `column_b1fee041185` FROM q GROUP BY `Second party`\"\"\"))\n    else:\n        displayHTML(\"dataframe no longer exists. If you're using dataframe.display(), use display(dataframe) instead.\")\n\n\nfinally:\n    spark.sql(\"drop view if exists DatabricksViewbd959e6\")\n    display = __backend_agg_display_orig\n    del __backend_agg_display_new\n    del __backend_agg_display_orig\n    del __backend_agg_dfs\n    del __backend_agg_user_code_fn\n\n",
       "commandTitle": "Runners Up 2019 - Pie",
       "commandType": "auto",
       "commandVersion": 0,
       "commentThread": [],
       "commentsVisible": false,
       "contentSha256Hex": null,
       "customPlotOptions": {
        "redashChart": [
         {
          "key": "type",
          "value": "CHART"
         },
         {
          "key": "options",
          "value": {
           "alignYAxesAtZero": true,
           "coefficient": 1,
           "columnConfigurationMap": {
            "x": {
             "column": "Second party",
             "id": "column_b1fee041184"
            },
            "y": [
             {
              "column": "count",
              "id": "column_b1fee041185",
              "transform": "SUM"
             }
            ]
           },
           "dateTimeFormat": "DD/MM/YYYY HH:mm",
           "direction": {
            "type": "counterclockwise"
           },
           "error_y": {
            "type": "data",
            "visible": true
           },
           "globalSeriesType": "pie",
           "isAggregationOn": true,
           "legend": {
            "traceorder": "normal"
           },
           "missingValuesAsZero": true,
           "numberFormat": "0,0.[00000]",
           "percentFormat": "0[.]00%",
           "series": {
            "error_y": {
             "type": "data",
             "visible": true
            },
            "stacking": null
           },
           "seriesOptions": {
            "column_b1fee041185": {
             "name": "count",
             "type": "pie",
             "yAxis": 0
            }
           },
           "showDataLabels": true,
           "sizemode": "diameter",
           "sortX": true,
           "sortY": true,
           "swappedAxes": false,
           "textFormat": "",
           "useAggregationsUi": true,
           "valuesOptions": {
            "BRX": {
             "color": "#12B6CF"
            },
            "BSJP": {
             "color": "#FFFFFF"
            },
            "Con": {
             "color": "#0087DC"
            },
            "Green": {
             "color": "#02A95B"
            },
            "LD": {
             "color": "#FAA61A"
            }
           },
           "version": 2,
           "xAxis": {
            "labels": {
             "enabled": true
            },
            "type": "-"
           },
           "yAxis": [
            {
             "type": "-"
            },
            {
             "opposite": true,
             "type": "-"
            }
           ]
          }
         }
        ]
       },
       "datasetPreviewNameToCmdIdMap": {},
       "diffDeletes": [],
       "diffInserts": [],
       "displayType": "redashChart",
       "error": null,
       "errorDetails": null,
       "errorSummary": null,
       "errorTraceType": null,
       "finishTime": 0,
       "globalVars": {},
       "guid": "",
       "height": "auto",
       "hideCommandCode": false,
       "hideCommandResult": false,
       "iPythonMetadata": null,
       "inputWidgets": {},
       "isLockedInExamMode": false,
       "latestUser": "a user",
       "latestUserId": null,
       "listResultMetadata": null,
       "metadata": {
        "byteLimit": 2048000,
        "rowLimit": 10000
       },
       "nuid": "cdfc35c0-ef74-4d63-926c-e29ba166c394",
       "origId": 0,
       "parentHierarchy": [],
       "pivotAggregation": null,
       "pivotColumns": null,
       "position": 24.3515625,
       "resultDbfsErrorMessage": null,
       "resultDbfsStatus": "INLINED_IN_TREE",
       "results": null,
       "showCommandTitle": false,
       "startTime": 0,
       "state": "input",
       "streamStates": {},
       "subcommandOptions": {
        "queryPlan": {
         "groups": [
          {
           "column": "Second party",
           "type": "column"
          }
         ],
         "selects": [
          {
           "column": "Second party",
           "type": "column"
          },
          {
           "alias": "column_b1fee041185",
           "args": [
            {
             "column": "count",
             "type": "column"
            }
           ],
           "function": "SUM",
           "type": "function"
          }
         ]
        }
       },
       "submitTime": 0,
       "subtype": "tableResultSubCmd.visualization",
       "tableResultIndex": 1,
       "tableResultSettingsMap": {},
       "useConsistentColors": false,
       "version": "CommandV1",
       "width": "auto",
       "workflows": null,
       "xColumns": null,
       "yColumns": null
      }
     },
     "output_type": "display_data"
    },
    {
     "output_type": "display_data",
     "data": {
      "text/plain": [
       "Databricks visualization. Run in Databricks to view."
      ]
     },
     "metadata": {
      "application/vnd.databricks.v1.subcommand+json": {
       "baseErrorDetails": null,
       "bindings": {},
       "collapsed": false,
       "command": "%python\n__backend_agg_display_orig = display\n__backend_agg_dfs = []\ndef __backend_agg_display_new(df):\n    __backend_agg_df_modules = [\"pandas.core.frame\", \"databricks.koalas.frame\", \"pyspark.sql.dataframe\", \"pyspark.pandas.frame\", \"pyspark.sql.connect.dataframe\"]\n    if (type(df).__module__ in __backend_agg_df_modules and type(df).__name__ == 'DataFrame') or isinstance(df, list):\n        __backend_agg_dfs.append(df)\n\ndisplay = __backend_agg_display_new\n\ndef __backend_agg_user_code_fn():\n    import base64\n    exec(base64.standard_b64decode(\"bGFiX3NlYXRzX3dvbjI0ID0gQnlDb25zdDI0X0VuZ2xhbmQuZmlsdGVyKEJ5Q29uc3QyNF9FbmdsYW5kWyJGaXJzdCBwYXJ0eSJdID09ICJMYWIiKQpsYWJfc2VhdHNfd29uMTkgPSBCeUNvbnN0MTlfRW5nbGFuZC5maWx0ZXIoQnlDb25zdDE5X0VuZ2xhbmRbIkZpcnN0IHBhcnR5Il0gPT0gIkxhYiIpCgpydW5uZXJzX3VwMjQgPSBsYWJfc2VhdHNfd29uMjQuZ3JvdXBCeSgiU2Vjb25kIHBhcnR5IikuY291bnQoKQpydW5uZXJzX3VwMTkgPSBsYWJfc2VhdHNfd29uMTkuZ3JvdXBCeSgiU2Vjb25kIHBhcnR5IikuY291bnQoKQoKcnVubmVyc191cDI0LnNob3coKQpkaXNwbGF5KHJ1bm5lcnNfdXAyNCkKcnVubmVyc191cDE5LnNob3coKQpkaXNwbGF5KHJ1bm5lcnNfdXAxOSk=\").decode())\n\ntry:\n    # run user code\n    __backend_agg_user_code_fn()\n\n    #reset display function\n    display = __backend_agg_display_orig\n\n    if len(__backend_agg_dfs) > 0:\n        # create a temp view\n        if type(__backend_agg_dfs[0]).__module__ == \"databricks.koalas.frame\":\n            # koalas dataframe\n            __backend_agg_dfs[0].to_spark().createOrReplaceTempView(\"DatabricksViewe0757eb\")\n        elif type(__backend_agg_dfs[0]).__module__ == \"pandas.core.frame\" or isinstance(__backend_agg_dfs[0], list):\n            # pandas dataframe\n            spark.createDataFrame(__backend_agg_dfs[0]).createOrReplaceTempView(\"DatabricksViewe0757eb\")\n        else:\n            __backend_agg_dfs[0].createOrReplaceTempView(\"DatabricksViewe0757eb\")\n        #run backend agg\n        display(spark.sql(\"\"\"WITH q AS (select * from DatabricksViewe0757eb) SELECT `Second party`,SUM(`count`) `column_b1fee041176` FROM q GROUP BY `Second party`\"\"\"))\n    else:\n        displayHTML(\"dataframe no longer exists. If you're using dataframe.display(), use display(dataframe) instead.\")\n\n\nfinally:\n    spark.sql(\"drop view if exists DatabricksViewe0757eb\")\n    display = __backend_agg_display_orig\n    del __backend_agg_display_new\n    del __backend_agg_display_orig\n    del __backend_agg_dfs\n    del __backend_agg_user_code_fn\n\n",
       "commandTitle": "Runners Up 2024 - Pie",
       "commandType": "auto",
       "commandVersion": 0,
       "commentThread": [],
       "commentsVisible": false,
       "contentSha256Hex": null,
       "customPlotOptions": {
        "redashChart": [
         {
          "key": "type",
          "value": "CHART"
         },
         {
          "key": "options",
          "value": {
           "alignYAxesAtZero": true,
           "coefficient": 1,
           "columnConfigurationMap": {
            "x": {
             "column": "Second party",
             "id": "column_b1fee041175"
            },
            "y": [
             {
              "column": "count",
              "id": "column_b1fee041176",
              "transform": "SUM"
             }
            ]
           },
           "dateTimeFormat": "DD/MM/YYYY HH:mm",
           "direction": {
            "type": "counterclockwise"
           },
           "error_y": {
            "type": "data",
            "visible": true
           },
           "globalSeriesType": "pie",
           "isAggregationOn": true,
           "legend": {
            "traceorder": "normal"
           },
           "missingValuesAsZero": true,
           "numberFormat": "0,0.[00000]",
           "percentFormat": "0[.]00%",
           "series": {
            "error_y": {
             "type": "data",
             "visible": true
            },
            "stacking": null
           },
           "seriesOptions": {
            "column_b1fee041176": {
             "name": "count",
             "type": "pie",
             "yAxis": 0
            }
           },
           "showDataLabels": true,
           "sizemode": "diameter",
           "sortX": true,
           "sortY": true,
           "swappedAxes": false,
           "textFormat": "",
           "useAggregationsUi": true,
           "valuesOptions": {
            "Con": {
             "color": "#0087DC"
            },
            "Green": {
             "color": "#02A95B"
            },
            "INet": {
             "color": null
            },
            "Ind": {
             "color": "#DCDCDC"
            },
            "LD": {
             "color": "#FAA61A"
            },
            "NIP": {
             "color": "#E9EA1D"
            },
            "RUK": {
             "color": "#12B6CF"
            },
            "WPB": {
             "color": "#780021"
            }
           },
           "version": 2,
           "xAxis": {
            "labels": {
             "enabled": true
            },
            "type": "-"
           },
           "yAxis": [
            {
             "type": "-"
            },
            {
             "opposite": true,
             "type": "-"
            }
           ]
          }
         }
        ]
       },
       "datasetPreviewNameToCmdIdMap": {},
       "diffDeletes": [],
       "diffInserts": [],
       "displayType": "redashChart",
       "error": null,
       "errorDetails": null,
       "errorSummary": null,
       "errorTraceType": null,
       "finishTime": 0,
       "globalVars": {},
       "guid": "",
       "height": "auto",
       "hideCommandCode": false,
       "hideCommandResult": false,
       "iPythonMetadata": null,
       "inputWidgets": {},
       "isLockedInExamMode": false,
       "latestUser": "a user",
       "latestUserId": null,
       "listResultMetadata": null,
       "metadata": {
        "byteLimit": 2048000,
        "rowLimit": 10000
       },
       "nuid": "82489f1b-71e8-453a-8ec0-7b058e6d9cdc",
       "origId": 0,
       "parentHierarchy": [],
       "pivotAggregation": null,
       "pivotColumns": null,
       "position": 24.3515625,
       "resultDbfsErrorMessage": null,
       "resultDbfsStatus": "INLINED_IN_TREE",
       "results": null,
       "showCommandTitle": false,
       "startTime": 0,
       "state": "input",
       "streamStates": {},
       "subcommandOptions": {
        "queryPlan": {
         "groups": [
          {
           "column": "Second party",
           "type": "column"
          }
         ],
         "selects": [
          {
           "column": "Second party",
           "type": "column"
          },
          {
           "alias": "column_b1fee041176",
           "args": [
            {
             "column": "count",
             "type": "column"
            }
           ],
           "function": "SUM",
           "type": "function"
          }
         ]
        }
       },
       "submitTime": 0,
       "subtype": "tableResultSubCmd.visualization",
       "tableResultIndex": 0,
       "tableResultSettingsMap": {},
       "useConsistentColors": false,
       "version": "CommandV1",
       "width": "auto",
       "workflows": null,
       "xColumns": null,
       "yColumns": null
      }
     },
     "output_type": "display_data"
    }
   ],
   "source": [
    "lab_seats_won24 = ByConst24_England.filter(ByConst24_England[\"First party\"] == \"Lab\")\n",
    "lab_seats_won19 = ByConst19_England.filter(ByConst19_England[\"First party\"] == \"Lab\")\n",
    "\n",
    "runners_up24 = lab_seats_won24.groupBy(\"Second party\").count()\n",
    "runners_up19 = lab_seats_won19.groupBy(\"Second party\").count()\n",
    "\n",
    "runners_up24.show()\n",
    "display(runners_up24)\n",
    "runners_up19.show()\n",
    "display(runners_up19)"
   ]
  },
  {
   "cell_type": "markdown",
   "metadata": {
    "application/vnd.databricks.v1+cell": {
     "cellMetadata": {
      "byteLimit": 2048000,
      "rowLimit": 10000
     },
     "inputWidgets": {},
     "nuid": "0582db76-9c5d-4311-b3ba-d0167e9c6cad",
     "showTitle": false,
     "tableResultSettingsMap": {},
     "title": ""
    }
   },
   "source": [
    "###Winners where Labour came second"
   ]
  },
  {
   "cell_type": "code",
   "execution_count": 0,
   "metadata": {
    "application/vnd.databricks.v1+cell": {
     "cellMetadata": {
      "byteLimit": 2048000,
      "rowLimit": 10000
     },
     "inputWidgets": {},
     "nuid": "3ab4dfb5-5eae-4054-9f2f-67899cb4bbba",
     "showTitle": false,
     "tableResultSettingsMap": {},
     "title": ""
    }
   },
   "outputs": [
    {
     "output_type": "display_data",
     "data": {
      "text/plain": [
       "Databricks visualization. Run in Databricks to view."
      ]
     },
     "metadata": {
      "application/vnd.databricks.v1.subcommand+json": {
       "baseErrorDetails": null,
       "bindings": {},
       "collapsed": false,
       "command": "%python\n__backend_agg_display_orig = display\n__backend_agg_dfs = []\ndef __backend_agg_display_new(df):\n    __backend_agg_df_modules = [\"pandas.core.frame\", \"databricks.koalas.frame\", \"pyspark.sql.dataframe\", \"pyspark.pandas.frame\", \"pyspark.sql.connect.dataframe\"]\n    if (type(df).__module__ in __backend_agg_df_modules and type(df).__name__ == 'DataFrame') or isinstance(df, list):\n        __backend_agg_dfs.append(df)\n\ndisplay = __backend_agg_display_new\n\ndef __backend_agg_user_code_fn():\n    import base64\n    exec(base64.standard_b64decode(\"bm90bGFid2lubmVyMjQgPSBCeUNvbnN0MjRfRW5nbGFuZC5maWx0ZXIoQnlDb25zdDI0X0VuZ2xhbmRbIkZpcnN0IHBhcnR5Il0gIT0gIkxhYiIpXAogICAgICAgICAgICAgICAgICAgICAgICAgICAgICAgICAgLmZpbHRlcihCeUNvbnN0MjRfRW5nbGFuZFsiU2Vjb25kIHBhcnR5Il0gPT0gIkxhYiIpCgpkZWZlYXRlZF9sYWIyNCA9IG5vdGxhYndpbm5lcjI0Lmdyb3VwQnkoIkZpcnN0IHBhcnR5IikuY291bnQoKQoKZGVmZWF0ZWRfbGFiMjQuc2hvdygpCmRpc3BsYXkoZGVmZWF0ZWRfbGFiMjQp\").decode())\n\ntry:\n    # run user code\n    __backend_agg_user_code_fn()\n\n    #reset display function\n    display = __backend_agg_display_orig\n\n    if len(__backend_agg_dfs) > 0:\n        # create a temp view\n        if type(__backend_agg_dfs[0]).__module__ == \"databricks.koalas.frame\":\n            # koalas dataframe\n            __backend_agg_dfs[0].to_spark().createOrReplaceTempView(\"DatabricksView71c41cf\")\n        elif type(__backend_agg_dfs[0]).__module__ == \"pandas.core.frame\" or isinstance(__backend_agg_dfs[0], list):\n            # pandas dataframe\n            spark.createDataFrame(__backend_agg_dfs[0]).createOrReplaceTempView(\"DatabricksView71c41cf\")\n        else:\n            __backend_agg_dfs[0].createOrReplaceTempView(\"DatabricksView71c41cf\")\n        #run backend agg\n        display(spark.sql(\"\"\"WITH q AS (select * from DatabricksView71c41cf) SELECT `First party`,SUM(`count`) `column_b1fee041453`,`First party` FROM q GROUP BY `First party`\"\"\"))\n    else:\n        displayHTML(\"dataframe no longer exists. If you're using dataframe.display(), use display(dataframe) instead.\")\n\n\nfinally:\n    spark.sql(\"drop view if exists DatabricksView71c41cf\")\n    display = __backend_agg_display_orig\n    del __backend_agg_display_new\n    del __backend_agg_display_orig\n    del __backend_agg_dfs\n    del __backend_agg_user_code_fn\n\n",
       "commandTitle": "Winners where Labour came second 2024",
       "commandType": "auto",
       "commandVersion": 0,
       "commentThread": [],
       "commentsVisible": false,
       "contentSha256Hex": null,
       "customPlotOptions": {
        "redashChart": [
         {
          "key": "type",
          "value": "CHART"
         },
         {
          "key": "options",
          "value": {
           "alignYAxesAtZero": true,
           "coefficient": 1,
           "columnConfigurationMap": {
            "series": {
             "column": "First party",
             "id": "column_b1fee041456"
            },
            "x": {
             "column": "First party",
             "id": "column_b1fee041454"
            },
            "y": [
             {
              "column": "count",
              "id": "column_b1fee041453",
              "transform": "SUM"
             }
            ]
           },
           "dateTimeFormat": "DD/MM/YYYY HH:mm",
           "direction": {
            "type": "counterclockwise"
           },
           "error_y": {
            "type": "data",
            "visible": true
           },
           "globalSeriesType": "column",
           "isAggregationOn": true,
           "legend": {
            "traceorder": "normal"
           },
           "missingValuesAsZero": true,
           "numberFormat": "0,0.[00000]",
           "percentFormat": "0[.]00%",
           "series": {
            "error_y": {
             "type": "data",
             "visible": true
            },
            "stacking": null
           },
           "seriesOptions": {
            "Con": {
             "color": "#0087DC"
            },
            "First party": {
             "type": "column",
             "yAxis": 0
            },
            "Green": {
             "color": "#02A95B"
            },
            "Ind": {
             "color": "#DFDFDF"
            },
            "LD": {
             "color": "#FAA61A"
            },
            "RUK": {
             "color": "#12B6CF"
            },
            "column_b1fee041453": {
             "type": "column",
             "yAxis": 0
            },
            "count": {
             "type": "column",
             "yAxis": 0
            }
           },
           "showDataLabels": false,
           "sizemode": "diameter",
           "sortX": true,
           "sortY": true,
           "swappedAxes": false,
           "textFormat": "",
           "useAggregationsUi": true,
           "valuesOptions": {},
           "version": 2,
           "xAxis": {
            "labels": {
             "enabled": true
            },
            "type": "-"
           },
           "yAxis": [
            {
             "type": "-"
            },
            {
             "opposite": true,
             "type": "-"
            }
           ]
          }
         }
        ]
       },
       "datasetPreviewNameToCmdIdMap": {},
       "diffDeletes": [],
       "diffInserts": [],
       "displayType": "redashChart",
       "error": null,
       "errorDetails": null,
       "errorSummary": null,
       "errorTraceType": null,
       "finishTime": 0,
       "globalVars": {},
       "guid": "",
       "height": "auto",
       "hideCommandCode": false,
       "hideCommandResult": false,
       "iPythonMetadata": null,
       "inputWidgets": {},
       "isLockedInExamMode": false,
       "latestUser": "a user",
       "latestUserId": null,
       "listResultMetadata": null,
       "metadata": {
        "byteLimit": 2048000,
        "rowLimit": 10000
       },
       "nuid": "6ff551fe-2bc8-4577-9bc3-089a096094d1",
       "origId": 0,
       "parentHierarchy": [],
       "pivotAggregation": null,
       "pivotColumns": null,
       "position": 24.5390625,
       "resultDbfsErrorMessage": null,
       "resultDbfsStatus": "INLINED_IN_TREE",
       "results": null,
       "showCommandTitle": false,
       "startTime": 0,
       "state": "input",
       "streamStates": {},
       "subcommandOptions": {
        "queryPlan": {
         "groups": [
          {
           "column": "First party",
           "type": "column"
          },
          {
           "column": "First party",
           "type": "column"
          }
         ],
         "selects": [
          {
           "column": "First party",
           "type": "column"
          },
          {
           "alias": "column_b1fee041453",
           "args": [
            {
             "column": "count",
             "type": "column"
            }
           ],
           "function": "SUM",
           "type": "function"
          },
          {
           "column": "First party",
           "type": "column"
          }
         ]
        }
       },
       "submitTime": 0,
       "subtype": "tableResultSubCmd.visualization",
       "tableResultIndex": 0,
       "tableResultSettingsMap": {},
       "useConsistentColors": false,
       "version": "CommandV1",
       "width": "auto",
       "workflows": null,
       "xColumns": null,
       "yColumns": null
      }
     },
     "output_type": "display_data"
    }
   ],
   "source": [
    "notlabwinner24 = ByConst24_England.filter(ByConst24_England[\"First party\"] != \"Lab\")\\\n",
    "                                  .filter(ByConst24_England[\"Second party\"] == \"Lab\")\n",
    "\n",
    "defeated_lab24 = notlabwinner24.groupBy(\"First party\").count()\n",
    "\n",
    "defeated_lab24.show()\n",
    "display(defeated_lab24)"
   ]
  },
  {
   "cell_type": "markdown",
   "metadata": {
    "application/vnd.databricks.v1+cell": {
     "cellMetadata": {
      "byteLimit": 2048000,
      "rowLimit": 10000
     },
     "inputWidgets": {},
     "nuid": "d79d2e68-d33e-4d44-b4a0-dd507cf2c720",
     "showTitle": false,
     "tableResultSettingsMap": {},
     "title": ""
    }
   },
   "source": [
    "###Parties to which Labour lost seats in 2024"
   ]
  },
  {
   "cell_type": "code",
   "execution_count": 0,
   "metadata": {
    "application/vnd.databricks.v1+cell": {
     "cellMetadata": {
      "byteLimit": 2048000,
      "rowLimit": 10000
     },
     "inputWidgets": {},
     "nuid": "7aa4f512-b6af-414b-847a-95533f73ab24",
     "showTitle": false,
     "tableResultSettingsMap": {},
     "title": ""
    }
   },
   "outputs": [
    {
     "output_type": "display_data",
     "data": {
      "text/plain": [
       "Databricks visualization. Run in Databricks to view."
      ]
     },
     "metadata": {
      "application/vnd.databricks.v1.subcommand+json": {
       "baseErrorDetails": null,
       "bindings": {},
       "collapsed": false,
       "command": "%python\n__backend_agg_display_orig = display\n__backend_agg_dfs = []\ndef __backend_agg_display_new(df):\n    __backend_agg_df_modules = [\"pandas.core.frame\", \"databricks.koalas.frame\", \"pyspark.sql.dataframe\", \"pyspark.pandas.frame\", \"pyspark.sql.connect.dataframe\"]\n    if (type(df).__module__ in __backend_agg_df_modules and type(df).__name__ == 'DataFrame') or isinstance(df, list):\n        __backend_agg_dfs.append(df)\n\ndisplay = __backend_agg_display_new\n\ndef __backend_agg_user_code_fn():\n    import base64\n    exec(base64.standard_b64decode(\"dG9va19mcm9tX0xhYjI0ID0gQnlDb25zdDI0X0VuZ2xhbmQuZmlsdGVyKEJ5Q29uc3QyNF9FbmdsYW5kWyJSZXN1bHQiXS5saWtlKCIlTGFiIikpCgpsYWJfcmFpZGVyczI0ID0gdG9va19mcm9tX0xhYjI0Lmdyb3VwQnkoIkZpcnN0IHBhcnR5IikuY291bnQoKQoKbGFiX3JhaWRlcnMyNC5zaG93KCkKZGlzcGxheShsYWJfcmFpZGVyczI0KQ==\").decode())\n\ntry:\n    # run user code\n    __backend_agg_user_code_fn()\n\n    #reset display function\n    display = __backend_agg_display_orig\n\n    if len(__backend_agg_dfs) > 0:\n        # create a temp view\n        if type(__backend_agg_dfs[0]).__module__ == \"databricks.koalas.frame\":\n            # koalas dataframe\n            __backend_agg_dfs[0].to_spark().createOrReplaceTempView(\"DatabricksViewde9c5dd\")\n        elif type(__backend_agg_dfs[0]).__module__ == \"pandas.core.frame\" or isinstance(__backend_agg_dfs[0], list):\n            # pandas dataframe\n            spark.createDataFrame(__backend_agg_dfs[0]).createOrReplaceTempView(\"DatabricksViewde9c5dd\")\n        else:\n            __backend_agg_dfs[0].createOrReplaceTempView(\"DatabricksViewde9c5dd\")\n        #run backend agg\n        display(spark.sql(\"\"\"WITH q AS (select * from DatabricksViewde9c5dd) SELECT `First party`,SUM(`count`) `column_b1fee041220` FROM q GROUP BY `First party`\"\"\"))\n    else:\n        displayHTML(\"dataframe no longer exists. If you're using dataframe.display(), use display(dataframe) instead.\")\n\n\nfinally:\n    spark.sql(\"drop view if exists DatabricksViewde9c5dd\")\n    display = __backend_agg_display_orig\n    del __backend_agg_display_new\n    del __backend_agg_display_orig\n    del __backend_agg_dfs\n    del __backend_agg_user_code_fn\n\n",
       "commandTitle": "Labour Raiders 2024",
       "commandType": "auto",
       "commandVersion": 0,
       "commentThread": [],
       "commentsVisible": false,
       "contentSha256Hex": null,
       "customPlotOptions": {
        "redashChart": [
         {
          "key": "type",
          "value": "CHART"
         },
         {
          "key": "options",
          "value": {
           "alignYAxesAtZero": true,
           "coefficient": 1,
           "columnConfigurationMap": {
            "x": {
             "column": "First party",
             "id": "column_b1fee041219"
            },
            "y": [
             {
              "column": "count",
              "id": "column_b1fee041220",
              "transform": "SUM"
             }
            ]
           },
           "dateTimeFormat": "DD/MM/YYYY HH:mm",
           "direction": {
            "type": "counterclockwise"
           },
           "error_y": {
            "type": "data",
            "visible": true
           },
           "globalSeriesType": "pie",
           "isAggregationOn": true,
           "legend": {
            "traceorder": "normal"
           },
           "missingValuesAsZero": true,
           "numberFormat": "0,0.[00000]",
           "percentFormat": "0[.]00%",
           "series": {
            "error_y": {
             "type": "data",
             "visible": true
            },
            "stacking": null
           },
           "seriesOptions": {
            "column_b1fee041220": {
             "name": "count",
             "type": "pie",
             "yAxis": 0
            }
           },
           "showDataLabels": true,
           "sizemode": "diameter",
           "sortX": true,
           "sortY": true,
           "swappedAxes": false,
           "textFormat": "",
           "useAggregationsUi": true,
           "valuesOptions": {
            "Con": {
             "color": "#0087DC"
            },
            "Green": {
             "color": "#02A95B"
            },
            "Ind": {
             "color": "#DFDFDF"
            }
           },
           "version": 2,
           "xAxis": {
            "labels": {
             "enabled": true
            },
            "type": "-"
           },
           "yAxis": [
            {
             "type": "-"
            },
            {
             "opposite": true,
             "type": "-"
            }
           ]
          }
         }
        ]
       },
       "datasetPreviewNameToCmdIdMap": {},
       "diffDeletes": [],
       "diffInserts": [],
       "displayType": "redashChart",
       "error": null,
       "errorDetails": null,
       "errorSummary": null,
       "errorTraceType": null,
       "finishTime": 0,
       "globalVars": {},
       "guid": "",
       "height": "auto",
       "hideCommandCode": false,
       "hideCommandResult": false,
       "iPythonMetadata": null,
       "inputWidgets": {},
       "isLockedInExamMode": false,
       "latestUser": "a user",
       "latestUserId": null,
       "listResultMetadata": null,
       "metadata": {
        "byteLimit": 2048000,
        "rowLimit": 10000
       },
       "nuid": "524176c4-28c6-4114-a5d0-6b0d350de54e",
       "origId": 0,
       "parentHierarchy": [],
       "pivotAggregation": null,
       "pivotColumns": null,
       "position": 24.7265625,
       "resultDbfsErrorMessage": null,
       "resultDbfsStatus": "INLINED_IN_TREE",
       "results": null,
       "showCommandTitle": false,
       "startTime": 0,
       "state": "input",
       "streamStates": {},
       "subcommandOptions": {
        "queryPlan": {
         "groups": [
          {
           "column": "First party",
           "type": "column"
          }
         ],
         "selects": [
          {
           "column": "First party",
           "type": "column"
          },
          {
           "alias": "column_b1fee041220",
           "args": [
            {
             "column": "count",
             "type": "column"
            }
           ],
           "function": "SUM",
           "type": "function"
          }
         ]
        }
       },
       "submitTime": 0,
       "subtype": "tableResultSubCmd.visualization",
       "tableResultIndex": 0,
       "tableResultSettingsMap": {},
       "useConsistentColors": false,
       "version": "CommandV1",
       "width": "auto",
       "workflows": null,
       "xColumns": null,
       "yColumns": null
      }
     },
     "output_type": "display_data"
    }
   ],
   "source": [
    "took_from_Lab24 = ByConst24_England.filter(ByConst24_England[\"Result\"].like(\"%Lab\"))\n",
    "\n",
    "lab_raiders24 = took_from_Lab24.groupBy(\"First party\").count()\n",
    "\n",
    "lab_raiders24.show()\n",
    "display(lab_raiders24)"
   ]
  },
  {
   "cell_type": "markdown",
   "metadata": {
    "application/vnd.databricks.v1+cell": {
     "cellMetadata": {
      "byteLimit": 2048000,
      "rowLimit": 10000
     },
     "inputWidgets": {},
     "nuid": "c8a23d61-6992-4c7a-85b5-b62e3f382003",
     "showTitle": false,
     "tableResultSettingsMap": {},
     "title": ""
    }
   },
   "source": [
    "##2.2 In which regions is party support strongest and weakest?"
   ]
  },
  {
   "cell_type": "markdown",
   "metadata": {
    "application/vnd.databricks.v1+cell": {
     "cellMetadata": {
      "byteLimit": 2048000,
      "rowLimit": 10000
     },
     "inputWidgets": {},
     "nuid": "ee06e6c4-05f9-440a-b511-b38c58a8798a",
     "showTitle": false,
     "tableResultSettingsMap": {},
     "title": ""
    }
   },
   "source": [
    "###Labour Wins by Region"
   ]
  },
  {
   "cell_type": "code",
   "execution_count": 0,
   "metadata": {
    "application/vnd.databricks.v1+cell": {
     "cellMetadata": {
      "byteLimit": 2048000,
      "rowLimit": 10000
     },
     "inputWidgets": {},
     "nuid": "73140344-31d1-49fe-ad13-177470cdfb8d",
     "showTitle": false,
     "tableResultSettingsMap": {},
     "title": ""
    }
   },
   "outputs": [
    {
     "output_type": "display_data",
     "data": {
      "text/plain": [
       "Databricks visualization. Run in Databricks to view."
      ]
     },
     "metadata": {
      "application/vnd.databricks.v1.subcommand+json": {
       "baseErrorDetails": null,
       "bindings": {},
       "collapsed": false,
       "command": "%python\n__backend_agg_display_orig = display\n__backend_agg_dfs = []\ndef __backend_agg_display_new(df):\n    __backend_agg_df_modules = [\"pandas.core.frame\", \"databricks.koalas.frame\", \"pyspark.sql.dataframe\", \"pyspark.pandas.frame\", \"pyspark.sql.connect.dataframe\"]\n    if (type(df).__module__ in __backend_agg_df_modules and type(df).__name__ == 'DataFrame') or isinstance(df, list):\n        __backend_agg_dfs.append(df)\n\ndisplay = __backend_agg_display_new\n\ndef __backend_agg_user_code_fn():\n    import base64\n    exec(base64.standard_b64decode(\"bGFiX3dpbnMyNCA9IEJ5Q29uc3QyNF9FbmdsYW5kLmZpbHRlcihCeUNvbnN0MjRfRW5nbGFuZFsiRmlyc3QgcGFydHkiXSA9PSAoIkxhYiIpKQoKcmVnaW9uYWxfbGFiU2VhdHMyNCA9IGxhYl93aW5zMjQuZ3JvdXBCeSgiUmVnaW9uIG5hbWUiKVwKICAgICAgICAgICAgICAgICAgICAgICAgICAgICAgICAuYWdnKGNvdW50KCIqIikuYWxpYXMoIlRvdGFsIHNlYXRzIikpXAogICAgICAgICAgICAgICAgICAgICAgICAgICAgICAgIC5vcmRlckJ5KCJUb3RhbCBzZWF0cyIsIGFzY2VuZGluZz1GYWxzZSkKCnJlZ2lvbmFsX2xhYlNlYXRzMjQuc2hvdygpCmRpc3BsYXkocmVnaW9uYWxfbGFiU2VhdHMyNCkK\").decode())\n\ntry:\n    # run user code\n    __backend_agg_user_code_fn()\n\n    #reset display function\n    display = __backend_agg_display_orig\n\n    if len(__backend_agg_dfs) > 0:\n        # create a temp view\n        if type(__backend_agg_dfs[0]).__module__ == \"databricks.koalas.frame\":\n            # koalas dataframe\n            __backend_agg_dfs[0].to_spark().createOrReplaceTempView(\"DatabricksView4f33158\")\n        elif type(__backend_agg_dfs[0]).__module__ == \"pandas.core.frame\" or isinstance(__backend_agg_dfs[0], list):\n            # pandas dataframe\n            spark.createDataFrame(__backend_agg_dfs[0]).createOrReplaceTempView(\"DatabricksView4f33158\")\n        else:\n            __backend_agg_dfs[0].createOrReplaceTempView(\"DatabricksView4f33158\")\n        #run backend agg\n        display(spark.sql(\"\"\"WITH q AS (select * from DatabricksView4f33158) SELECT `Region name`,SUM(`Total seats`) `column_b1fee041392`,`Total seats` FROM q GROUP BY `Region name`,`Total seats`\"\"\"))\n    else:\n        displayHTML(\"dataframe no longer exists. If you're using dataframe.display(), use display(dataframe) instead.\")\n\n\nfinally:\n    spark.sql(\"drop view if exists DatabricksView4f33158\")\n    display = __backend_agg_display_orig\n    del __backend_agg_display_new\n    del __backend_agg_display_orig\n    del __backend_agg_dfs\n    del __backend_agg_user_code_fn\n\n",
       "commandTitle": "No. of seats won by Labour per Region",
       "commandType": "auto",
       "commandVersion": 0,
       "commentThread": [],
       "commentsVisible": false,
       "contentSha256Hex": null,
       "customPlotOptions": {
        "redashChart": [
         {
          "key": "type",
          "value": "CHART"
         },
         {
          "key": "options",
          "value": {
           "alignYAxesAtZero": true,
           "coefficient": 1,
           "columnConfigurationMap": {
            "series": {
             "column": "Total seats",
             "id": "column_b1fee041390"
            },
            "x": {
             "column": "Region name",
             "id": "column_b1fee041381"
            },
            "y": [
             {
              "column": "Total seats",
              "id": "column_b1fee041392",
              "transform": "SUM"
             }
            ]
           },
           "dateTimeFormat": "DD/MM/YYYY HH:mm",
           "direction": {
            "type": "counterclockwise"
           },
           "error_y": {
            "type": "data",
            "visible": true
           },
           "globalSeriesType": "area",
           "isAggregationOn": true,
           "legend": {
            "traceorder": "normal"
           },
           "missingValuesAsZero": true,
           "numberFormat": "0,0.[00000]",
           "percentFormat": "0[.]00%",
           "series": {
            "error_y": {
             "type": "data",
             "visible": true
            },
            "stacking": ""
           },
           "seriesOptions": {
            "column_b1fee041383": {
             "type": "area",
             "yAxis": 0
            },
            "column_b1fee041392": {
             "type": "area",
             "yAxis": 0
            }
           },
           "showDataLabels": false,
           "sizemode": "diameter",
           "sortX": true,
           "sortY": true,
           "swappedAxes": false,
           "textFormat": "",
           "useAggregationsUi": true,
           "valuesOptions": {},
           "version": 2,
           "xAxis": {
            "labels": {
             "enabled": true
            },
            "type": "-"
           },
           "yAxis": [
            {
             "type": "-"
            },
            {
             "opposite": true,
             "type": "-"
            }
           ]
          }
         }
        ]
       },
       "datasetPreviewNameToCmdIdMap": {},
       "diffDeletes": [],
       "diffInserts": [],
       "displayType": "redashChart",
       "error": null,
       "errorDetails": null,
       "errorSummary": null,
       "errorTraceType": null,
       "finishTime": 0,
       "globalVars": {},
       "guid": "",
       "height": "auto",
       "hideCommandCode": false,
       "hideCommandResult": false,
       "iPythonMetadata": null,
       "inputWidgets": {},
       "isLockedInExamMode": false,
       "latestUser": "a user",
       "latestUserId": null,
       "listResultMetadata": null,
       "metadata": {
        "byteLimit": 2048000,
        "rowLimit": 10000
       },
       "nuid": "0d0d3193-df56-4181-9414-98aeb99a78c9",
       "origId": 0,
       "parentHierarchy": [],
       "pivotAggregation": null,
       "pivotColumns": null,
       "position": 26.8515625,
       "resultDbfsErrorMessage": null,
       "resultDbfsStatus": "INLINED_IN_TREE",
       "results": null,
       "showCommandTitle": false,
       "startTime": 0,
       "state": "input",
       "streamStates": {},
       "subcommandOptions": {
        "queryPlan": {
         "groups": [
          {
           "column": "Region name",
           "type": "column"
          },
          {
           "column": "Total seats",
           "type": "column"
          }
         ],
         "selects": [
          {
           "column": "Region name",
           "type": "column"
          },
          {
           "alias": "column_b1fee041392",
           "args": [
            {
             "column": "Total seats",
             "type": "column"
            }
           ],
           "function": "SUM",
           "type": "function"
          },
          {
           "column": "Total seats",
           "type": "column"
          }
         ]
        }
       },
       "submitTime": 0,
       "subtype": "tableResultSubCmd.visualization",
       "tableResultIndex": 0,
       "tableResultSettingsMap": {},
       "useConsistentColors": false,
       "version": "CommandV1",
       "width": "auto",
       "workflows": null,
       "xColumns": null,
       "yColumns": null
      }
     },
     "output_type": "display_data"
    }
   ],
   "source": [
    "lab_wins24 = ByConst24_England.filter(ByConst24_England[\"First party\"] == (\"Lab\"))\n",
    "\n",
    "regional_labSeats24 = lab_wins24.groupBy(\"Region name\")\\\n",
    "                                .agg(count(\"*\").alias(\"Total seats\"))\\\n",
    "                                .orderBy(\"Total seats\", ascending=False)\n",
    "\n",
    "regional_labSeats24.show()\n",
    "display(regional_labSeats24)\n"
   ]
  },
  {
   "cell_type": "markdown",
   "metadata": {
    "application/vnd.databricks.v1+cell": {
     "cellMetadata": {
      "byteLimit": 2048000,
      "rowLimit": 10000
     },
     "inputWidgets": {},
     "nuid": "f9bc7fdf-65ca-4d52-87fc-02fcb4db2946",
     "showTitle": false,
     "tableResultSettingsMap": {},
     "title": ""
    }
   },
   "source": [
    "###Labour Constituencies in North West (strongest region by seats)"
   ]
  },
  {
   "cell_type": "code",
   "execution_count": 0,
   "metadata": {
    "application/vnd.databricks.v1+cell": {
     "cellMetadata": {
      "byteLimit": 2048000,
      "rowLimit": 10000
     },
     "inputWidgets": {},
     "nuid": "5cb5a71d-2c53-46a2-9a2a-036b26c4d3f7",
     "showTitle": false,
     "tableResultSettingsMap": {},
     "title": ""
    }
   },
   "outputs": [
    {
     "output_type": "display_data",
     "data": {
      "text/plain": [
       "Databricks visualization. Run in Databricks to view."
      ]
     },
     "metadata": {
      "application/vnd.databricks.v1.subcommand+json": {
       "baseErrorDetails": null,
       "bindings": {},
       "collapsed": false,
       "command": "labseats_northwest_24 = ByConst24_England.filter(\n    (ByConst24_England[\"First party\"] == \"Lab\") & \n    (ByConst24_England[\"Region name\"] == \"North West\"))\\\n    .select(\"Constituency name\", \n            concat_ws(\" \", \"Member first name\", \"Member surname\").alias(\"Member name\"), \n            \"Majority\", \"Second Party\")\n\ndisplay(labseats_northwest_24)",
       "commandTitle": "North West Members",
       "commandType": "auto",
       "commandVersion": 0,
       "commentThread": [],
       "commentsVisible": false,
       "contentSha256Hex": null,
       "customPlotOptions": {
        "redashChart": [
         {
          "key": "type",
          "value": "DETAILS"
         },
         {
          "key": "options",
          "value": {
           "columns": [
            {
             "name": "Constituency name",
             "title": "Constituency name",
             "type": "string"
            },
            {
             "name": "Member name",
             "title": "Member name",
             "type": "string"
            },
            {
             "name": "Majority",
             "title": "Majority",
             "type": "integer"
            }
           ],
           "version": 1
          }
         }
        ]
       },
       "datasetPreviewNameToCmdIdMap": {},
       "diffDeletes": [],
       "diffInserts": [],
       "displayType": "redashChart",
       "error": null,
       "errorDetails": null,
       "errorSummary": null,
       "errorTraceType": null,
       "finishTime": 0,
       "globalVars": {},
       "guid": "",
       "height": "auto",
       "hideCommandCode": false,
       "hideCommandResult": false,
       "iPythonMetadata": null,
       "inputWidgets": {},
       "isLockedInExamMode": false,
       "latestUser": "a user",
       "latestUserId": null,
       "listResultMetadata": null,
       "metadata": {
        "byteLimit": 2048000,
        "rowLimit": 10000
       },
       "nuid": "6f6413ea-409c-43c8-b822-fd2872211f37",
       "origId": 0,
       "parentHierarchy": [],
       "pivotAggregation": null,
       "pivotColumns": null,
       "position": 27.3515625,
       "resultDbfsErrorMessage": null,
       "resultDbfsStatus": "INLINED_IN_TREE",
       "results": null,
       "showCommandTitle": false,
       "startTime": 0,
       "state": "input",
       "streamStates": {},
       "subcommandOptions": {},
       "submitTime": 0,
       "subtype": "tableResultSubCmd.visualization",
       "tableResultIndex": 0,
       "tableResultSettingsMap": {},
       "useConsistentColors": false,
       "version": "CommandV1",
       "width": "auto",
       "workflows": null,
       "xColumns": null,
       "yColumns": null
      }
     },
     "output_type": "display_data"
    }
   ],
   "source": [
    "labseats_northwest_24 = ByConst24_England.filter(\n",
    "    (ByConst24_England[\"First party\"] == \"Lab\") & \n",
    "    (ByConst24_England[\"Region name\"] == \"North West\"))\\\n",
    "    .select(\"Constituency name\", \n",
    "            concat_ws(\" \", \"Member first name\", \"Member surname\").alias(\"Member name\"), \n",
    "            \"Majority\", \"Second Party\")\\\n",
    "    .orderBy(\"Majority\", ascending=False)\n",
    "\n",
    "display(labseats_northwest_24)"
   ]
  },
  {
   "cell_type": "markdown",
   "metadata": {
    "application/vnd.databricks.v1+cell": {
     "cellMetadata": {
      "byteLimit": 2048000,
      "rowLimit": 10000
     },
     "inputWidgets": {},
     "nuid": "7922b8ad-a2e4-4a01-910e-6d3230b4e241",
     "showTitle": false,
     "tableResultSettingsMap": {},
     "title": ""
    }
   },
   "source": [
    "%md\n",
    "###Labour Constituencies in South West (weakest region by seats)"
   ]
  },
  {
   "cell_type": "code",
   "execution_count": 0,
   "metadata": {
    "application/vnd.databricks.v1+cell": {
     "cellMetadata": {
      "byteLimit": 2048000,
      "rowLimit": 10000
     },
     "inputWidgets": {},
     "nuid": "b8c90942-4593-4e75-a200-3199e20fc9d0",
     "showTitle": false,
     "tableResultSettingsMap": {},
     "title": ""
    }
   },
   "outputs": [
    {
     "output_type": "display_data",
     "data": {
      "text/plain": [
       "Databricks visualization. Run in Databricks to view."
      ]
     },
     "metadata": {
      "application/vnd.databricks.v1.subcommand+json": {
       "baseErrorDetails": null,
       "bindings": {},
       "collapsed": false,
       "command": "labseats_southwest_24 = ByConst24_England.filter(\n    (ByConst24_England[\"First party\"] == \"Lab\") & \n    (ByConst24_England[\"Region name\"] == \"South West\"))\\\n    .select(\"Constituency name\", \n            concat_ws(\" \", \"Member first name\", \"Member surname\").alias(\"Member name\"), \n            \"Majority\", \"Second Party\")\n\ndisplay(labseats_southwest_24)",
       "commandTitle": "South West Members",
       "commandType": "auto",
       "commandVersion": 0,
       "commentThread": [],
       "commentsVisible": false,
       "contentSha256Hex": null,
       "customPlotOptions": {
        "redashChart": [
         {
          "key": "type",
          "value": "DETAILS"
         },
         {
          "key": "options",
          "value": {
           "columns": [
            {
             "name": "Constituency name",
             "title": "Constituency name",
             "type": "string"
            },
            {
             "name": "Member name",
             "title": "Member name",
             "type": "string"
            },
            {
             "name": "Majority",
             "title": "Majority",
             "type": "integer"
            },
            {
             "name": "Second Party",
             "title": "Second Party",
             "type": "string"
            }
           ],
           "version": 1
          }
         }
        ]
       },
       "datasetPreviewNameToCmdIdMap": {},
       "diffDeletes": [],
       "diffInserts": [],
       "displayType": "redashChart",
       "error": null,
       "errorDetails": null,
       "errorSummary": null,
       "errorTraceType": null,
       "finishTime": 0,
       "globalVars": {},
       "guid": "",
       "height": "auto",
       "hideCommandCode": false,
       "hideCommandResult": false,
       "iPythonMetadata": null,
       "inputWidgets": {},
       "isLockedInExamMode": false,
       "latestUser": "a user",
       "latestUserId": null,
       "listResultMetadata": null,
       "metadata": {
        "byteLimit": 2048000,
        "rowLimit": 10000
       },
       "nuid": "d67cddfb-9fe9-4e64-850c-b3948b355e73",
       "origId": 0,
       "parentHierarchy": [],
       "pivotAggregation": null,
       "pivotColumns": null,
       "position": 27.5390625,
       "resultDbfsErrorMessage": null,
       "resultDbfsStatus": "INLINED_IN_TREE",
       "results": null,
       "showCommandTitle": false,
       "startTime": 0,
       "state": "input",
       "streamStates": {},
       "subcommandOptions": {},
       "submitTime": 0,
       "subtype": "tableResultSubCmd.visualization",
       "tableResultIndex": 0,
       "tableResultSettingsMap": {},
       "useConsistentColors": false,
       "version": "CommandV1",
       "width": "auto",
       "workflows": null,
       "xColumns": null,
       "yColumns": null
      }
     },
     "output_type": "display_data"
    }
   ],
   "source": [
    "labseats_southwest_24 = ByConst24_England.filter(\n",
    "    (ByConst24_England[\"First party\"] == \"Lab\") & \n",
    "    (ByConst24_England[\"Region name\"] == \"South West\"))\\\n",
    "    .select(\"Constituency name\", \n",
    "            concat_ws(\" \", \"Member first name\", \"Member surname\").alias(\"Member name\"), \n",
    "            \"Majority\", \"Second Party\")\\\n",
    "    .orderBy(\"Majority\", ascending=True)\n",
    "\n",
    "display(labseats_southwest_24)"
   ]
  },
  {
   "cell_type": "markdown",
   "metadata": {
    "application/vnd.databricks.v1+cell": {
     "cellMetadata": {
      "byteLimit": 2048000,
      "rowLimit": 10000
     },
     "inputWidgets": {},
     "nuid": "eeb23142-f5b0-434a-9b85-31b21c65c895",
     "showTitle": false,
     "tableResultSettingsMap": {},
     "title": ""
    }
   },
   "source": [
    "###Constituencies and Regions where Labour majority is less than 1000 votes (seats most at risk)"
   ]
  },
  {
   "cell_type": "code",
   "execution_count": 0,
   "metadata": {
    "application/vnd.databricks.v1+cell": {
     "cellMetadata": {
      "byteLimit": 2048000,
      "rowLimit": 10000
     },
     "inputWidgets": {},
     "nuid": "0567fd1c-c3e1-4e61-9a04-b04a281eb364",
     "showTitle": false,
     "tableResultSettingsMap": {},
     "title": ""
    }
   },
   "outputs": [
    {
     "output_type": "display_data",
     "data": {
      "text/plain": [
       "Databricks visualization. Run in Databricks to view."
      ]
     },
     "metadata": {
      "application/vnd.databricks.v1.subcommand+json": {
       "baseErrorDetails": null,
       "bindings": {},
       "collapsed": false,
       "command": "%python\n__backend_agg_display_orig = display\n__backend_agg_dfs = []\ndef __backend_agg_display_new(df):\n    __backend_agg_df_modules = [\"pandas.core.frame\", \"databricks.koalas.frame\", \"pyspark.sql.dataframe\", \"pyspark.pandas.frame\", \"pyspark.sql.connect.dataframe\"]\n    if (type(df).__module__ in __backend_agg_df_modules and type(df).__name__ == 'DataFrame') or isinstance(df, list):\n        __backend_agg_dfs.append(df)\n\ndisplay = __backend_agg_display_new\n\ndef __backend_agg_user_code_fn():\n    import base64\n    exec(base64.standard_b64decode(\"bGFibWFqb3JpdHlfdW5kZXIxMDAwXzI0ID0gQnlDb25zdDI0X0VuZ2xhbmQuZmlsdGVyKChCeUNvbnN0MjRfRW5nbGFuZFsiRmlyc3QgcGFydHkiXSA9PSAiTGFiIikpXAogICAgICAgICAgICAgICAgICAgICAgICAgICAgICAgICAgICAgICAgICAuZmlsdGVyKEJ5Q29uc3QyNF9FbmdsYW5kWyJNYWpvcml0eSJdIDwgMTAwMClcCiAgICAgICAgICAgICAgICAgICAgICAgICAgICAgICAgICAgICAgICAgIC5zZWxlY3QoIkNvbnN0aXR1ZW5jeSBuYW1lIiwgIlJlZ2lvbiBuYW1lIiwgIlJlc3VsdCIsICJNYWpvcml0eSIpCgp3ZWFrX3JlZ2lvbnMyNCA9IGxhYm1ham9yaXR5X3VuZGVyMTAwMF8yNC5ncm91cEJ5KCJSZWdpb24gbmFtZSIpXAogICAgICAgICAgICAgICAgICAgICAgICAgICAgICAgIC5hZ2coY291bnQoIioiKS5hbGlhcygiU2xpbSBtYWpvcml0aWVzICh1bmRlciAxMDAwKSIpKVwKICAgICAgICAgICAgICAgICAgICAgICAgICAgICAgICAub3JkZXJCeSgiU2xpbSBtYWpvcml0aWVzICh1bmRlciAxMDAwKSIsIGFzY2VuZGluZz1GYWxzZSkKCmRpc3BsYXkobGFibWFqb3JpdHlfdW5kZXIxMDAwXzI0KQpkaXNwbGF5KHdlYWtfcmVnaW9uczI0KQ==\").decode())\n\ntry:\n    # run user code\n    __backend_agg_user_code_fn()\n\n    #reset display function\n    display = __backend_agg_display_orig\n\n    if len(__backend_agg_dfs) > 1:\n        # create a temp view\n        if type(__backend_agg_dfs[1]).__module__ == \"databricks.koalas.frame\":\n            # koalas dataframe\n            __backend_agg_dfs[1].to_spark().createOrReplaceTempView(\"DatabricksViewcf96819\")\n        elif type(__backend_agg_dfs[1]).__module__ == \"pandas.core.frame\" or isinstance(__backend_agg_dfs[1], list):\n            # pandas dataframe\n            spark.createDataFrame(__backend_agg_dfs[1]).createOrReplaceTempView(\"DatabricksViewcf96819\")\n        else:\n            __backend_agg_dfs[1].createOrReplaceTempView(\"DatabricksViewcf96819\")\n        #run backend agg\n        display(spark.sql(\"\"\"WITH q AS (select * from DatabricksViewcf96819) SELECT `Region name`,SUM(`Slim majorities (under 1000)`) `column_b1fee041502`,`Region name` FROM q GROUP BY `Region name`\"\"\"))\n    else:\n        displayHTML(\"dataframe no longer exists. If you're using dataframe.display(), use display(dataframe) instead.\")\n\n\nfinally:\n    spark.sql(\"drop view if exists DatabricksViewcf96819\")\n    display = __backend_agg_display_orig\n    del __backend_agg_display_new\n    del __backend_agg_display_orig\n    del __backend_agg_dfs\n    del __backend_agg_user_code_fn\n\n",
       "commandTitle": "No. of slim majorities (under 1000) by region",
       "commandType": "auto",
       "commandVersion": 0,
       "commentThread": [],
       "commentsVisible": false,
       "contentSha256Hex": null,
       "customPlotOptions": {
        "redashChart": [
         {
          "key": "type",
          "value": "CHART"
         },
         {
          "key": "options",
          "value": {
           "alignYAxesAtZero": true,
           "coefficient": 1,
           "columnConfigurationMap": {
            "series": {
             "column": "Region name",
             "id": "column_b1fee041505"
            },
            "x": {
             "column": "Region name",
             "id": "column_b1fee041501"
            },
            "y": [
             {
              "column": "Slim majorities (under 1000)",
              "id": "column_b1fee041502",
              "transform": "SUM"
             }
            ]
           },
           "dateTimeFormat": "DD/MM/YYYY HH:mm",
           "direction": {
            "type": "counterclockwise"
           },
           "error_y": {
            "type": "data",
            "visible": true
           },
           "globalSeriesType": "column",
           "isAggregationOn": true,
           "legend": {
            "traceorder": "normal"
           },
           "missingValuesAsZero": true,
           "numberFormat": "0,0.[00000]",
           "percentFormat": "0[.]00%",
           "series": {
            "error_y": {
             "type": "data",
             "visible": true
            },
            "stacking": null
           },
           "seriesOptions": {
            "column_b1fee041502": {
             "name": "Slim majorities (under 1000)",
             "type": "column",
             "yAxis": 0
            }
           },
           "showDataLabels": false,
           "sizemode": "diameter",
           "sortX": true,
           "sortY": true,
           "swappedAxes": false,
           "textFormat": "",
           "useAggregationsUi": true,
           "valuesOptions": {},
           "version": 2,
           "xAxis": {
            "labels": {
             "enabled": true
            },
            "type": "-"
           },
           "yAxis": [
            {
             "type": "-"
            },
            {
             "opposite": true,
             "type": "-"
            }
           ]
          }
         }
        ]
       },
       "datasetPreviewNameToCmdIdMap": {},
       "diffDeletes": [],
       "diffInserts": [],
       "displayType": "redashChart",
       "error": null,
       "errorDetails": null,
       "errorSummary": null,
       "errorTraceType": null,
       "finishTime": 0,
       "globalVars": {},
       "guid": "",
       "height": "auto",
       "hideCommandCode": false,
       "hideCommandResult": false,
       "iPythonMetadata": null,
       "inputWidgets": {},
       "isLockedInExamMode": false,
       "latestUser": "a user",
       "latestUserId": null,
       "listResultMetadata": null,
       "metadata": {
        "byteLimit": 2048000,
        "rowLimit": 10000
       },
       "nuid": "127372e1-afbe-468b-a84a-6489428cd55b",
       "origId": 0,
       "parentHierarchy": [],
       "pivotAggregation": null,
       "pivotColumns": null,
       "position": 27.8515625,
       "resultDbfsErrorMessage": null,
       "resultDbfsStatus": "INLINED_IN_TREE",
       "results": null,
       "showCommandTitle": false,
       "startTime": 0,
       "state": "input",
       "streamStates": {},
       "subcommandOptions": {
        "queryPlan": {
         "groups": [
          {
           "column": "Region name",
           "type": "column"
          },
          {
           "column": "Region name",
           "type": "column"
          }
         ],
         "selects": [
          {
           "column": "Region name",
           "type": "column"
          },
          {
           "alias": "column_b1fee041502",
           "args": [
            {
             "column": "Slim majorities (under 1000)",
             "type": "column"
            }
           ],
           "function": "SUM",
           "type": "function"
          },
          {
           "column": "Region name",
           "type": "column"
          }
         ]
        }
       },
       "submitTime": 0,
       "subtype": "tableResultSubCmd.visualization",
       "tableResultIndex": 1,
       "tableResultSettingsMap": {},
       "useConsistentColors": false,
       "version": "CommandV1",
       "width": "auto",
       "workflows": null,
       "xColumns": null,
       "yColumns": null
      }
     },
     "output_type": "display_data"
    },
    {
     "output_type": "display_data",
     "data": {
      "text/plain": [
       "Databricks visualization. Run in Databricks to view."
      ]
     },
     "metadata": {
      "application/vnd.databricks.v1.subcommand+json": {
       "baseErrorDetails": null,
       "bindings": {},
       "collapsed": false,
       "command": "%python\n__backend_agg_display_orig = display\n__backend_agg_dfs = []\ndef __backend_agg_display_new(df):\n    __backend_agg_df_modules = [\"pandas.core.frame\", \"databricks.koalas.frame\", \"pyspark.sql.dataframe\", \"pyspark.pandas.frame\", \"pyspark.sql.connect.dataframe\"]\n    if (type(df).__module__ in __backend_agg_df_modules and type(df).__name__ == 'DataFrame') or isinstance(df, list):\n        __backend_agg_dfs.append(df)\n\ndisplay = __backend_agg_display_new\n\ndef __backend_agg_user_code_fn():\n    import base64\n    exec(base64.standard_b64decode(\"bGFibWFqb3JpdHlfdW5kZXIxMDAwXzI0ID0gQnlDb25zdDI0X0VuZ2xhbmQuZmlsdGVyKChCeUNvbnN0MjRfRW5nbGFuZFsiRmlyc3QgcGFydHkiXSA9PSAiTGFiIikpXAogICAgICAgICAgICAgICAgICAgICAgICAgICAgICAgICAgICAgICAgICAuZmlsdGVyKEJ5Q29uc3QyNF9FbmdsYW5kWyJNYWpvcml0eSJdIDwgMTAwMClcCiAgICAgICAgICAgICAgICAgICAgICAgICAgICAgICAgICAgICAgICAgIC5zZWxlY3QoIkNvbnN0aXR1ZW5jeSBuYW1lIiwgIlJlZ2lvbiBuYW1lIiwgIlJlc3VsdCIsICJNYWpvcml0eSIpCgp3ZWFrX3JlZ2lvbnMyNCA9IGxhYm1ham9yaXR5X3VuZGVyMTAwMF8yNC5ncm91cEJ5KCJSZWdpb24gbmFtZSIpXAogICAgICAgICAgICAgICAgICAgICAgICAgICAgICAgIC5hZ2coY291bnQoIioiKS5hbGlhcygiU2xpbSBtYWpvcml0aWVzICh1bmRlciAxMDAwKSIpKVwKICAgICAgICAgICAgICAgICAgICAgICAgICAgICAgICAub3JkZXJCeSgiU2xpbSBtYWpvcml0aWVzICh1bmRlciAxMDAwKSIsIGFzY2VuZGluZz1GYWxzZSkKCmRpc3BsYXkobGFibWFqb3JpdHlfdW5kZXIxMDAwXzI0KQpkaXNwbGF5KHdlYWtfcmVnaW9uczI0KQ==\").decode())\n\ntry:\n    # run user code\n    __backend_agg_user_code_fn()\n\n    #reset display function\n    display = __backend_agg_display_orig\n\n    if len(__backend_agg_dfs) > 0:\n        # create a temp view\n        if type(__backend_agg_dfs[0]).__module__ == \"databricks.koalas.frame\":\n            # koalas dataframe\n            __backend_agg_dfs[0].to_spark().createOrReplaceTempView(\"DatabricksView3100893\")\n        elif type(__backend_agg_dfs[0]).__module__ == \"pandas.core.frame\" or isinstance(__backend_agg_dfs[0], list):\n            # pandas dataframe\n            spark.createDataFrame(__backend_agg_dfs[0]).createOrReplaceTempView(\"DatabricksView3100893\")\n        else:\n            __backend_agg_dfs[0].createOrReplaceTempView(\"DatabricksView3100893\")\n        #run backend agg\n        display(spark.sql(\"\"\"WITH q AS (select * from DatabricksView3100893) SELECT `Constituency name`,SUM(`Majority`) `column_f29e72bc390`,`Result` FROM q GROUP BY `Constituency name`,`Result`\"\"\"))\n    else:\n        displayHTML(\"dataframe no longer exists. If you're using dataframe.display(), use display(dataframe) instead.\")\n\n\nfinally:\n    spark.sql(\"drop view if exists DatabricksView3100893\")\n    display = __backend_agg_display_orig\n    del __backend_agg_display_new\n    del __backend_agg_display_orig\n    del __backend_agg_dfs\n    del __backend_agg_user_code_fn\n\n",
       "commandTitle": "Gains and holds where majority is <1000",
       "commandType": "auto",
       "commandVersion": 0,
       "commentThread": [],
       "commentsVisible": false,
       "contentSha256Hex": null,
       "customPlotOptions": {
        "redashChart": [
         {
          "key": "type",
          "value": "CHART"
         },
         {
          "key": "options",
          "value": {
           "alignYAxesAtZero": true,
           "coefficient": 1,
           "columnConfigurationMap": {
            "series": {
             "column": "Result",
             "id": "column_f29e72bc399"
            },
            "x": {
             "column": "Constituency name",
             "id": "column_f29e72bc388"
            },
            "y": [
             {
              "column": "Majority",
              "id": "column_f29e72bc390",
              "transform": "SUM"
             }
            ]
           },
           "dateTimeFormat": "DD/MM/YYYY HH:mm",
           "direction": {
            "type": "counterclockwise"
           },
           "error_y": {
            "type": "data",
            "visible": true
           },
           "globalSeriesType": "area",
           "isAggregationOn": true,
           "legend": {
            "traceorder": "normal"
           },
           "missingValuesAsZero": true,
           "numberFormat": "0,0.[00000]",
           "percentFormat": "0[.]00%",
           "series": {
            "error_y": {
             "type": "data",
             "visible": true
            },
            "stacking": null
           },
           "seriesOptions": {
            "column_f29e72bc390": {
             "type": "area",
             "yAxis": 0
            }
           },
           "showDataLabels": false,
           "sizemode": "diameter",
           "sortX": true,
           "sortY": true,
           "swappedAxes": false,
           "textFormat": "",
           "useAggregationsUi": true,
           "valuesOptions": {},
           "version": 2,
           "xAxis": {
            "labels": {
             "enabled": true
            },
            "type": "-"
           },
           "yAxis": [
            {
             "type": "-"
            },
            {
             "opposite": true,
             "type": "-"
            }
           ]
          }
         }
        ]
       },
       "datasetPreviewNameToCmdIdMap": {},
       "diffDeletes": [],
       "diffInserts": [],
       "displayType": "redashChart",
       "error": null,
       "errorDetails": null,
       "errorSummary": null,
       "errorTraceType": null,
       "finishTime": 0,
       "globalVars": {},
       "guid": "",
       "height": "auto",
       "hideCommandCode": false,
       "hideCommandResult": false,
       "iPythonMetadata": null,
       "inputWidgets": {},
       "isLockedInExamMode": false,
       "latestUser": "a user",
       "latestUserId": null,
       "listResultMetadata": null,
       "metadata": {},
       "nuid": "a39d975b-5408-479d-b660-7d8bd016c94b",
       "origId": 0,
       "parentHierarchy": [],
       "pivotAggregation": null,
       "pivotColumns": null,
       "position": 27.8515625,
       "resultDbfsErrorMessage": null,
       "resultDbfsStatus": "INLINED_IN_TREE",
       "results": null,
       "showCommandTitle": false,
       "startTime": 0,
       "state": "input",
       "streamStates": {},
       "subcommandOptions": {
        "queryPlan": {
         "groups": [
          {
           "column": "Constituency name",
           "type": "column"
          },
          {
           "column": "Result",
           "type": "column"
          }
         ],
         "selects": [
          {
           "column": "Constituency name",
           "type": "column"
          },
          {
           "alias": "column_f29e72bc390",
           "args": [
            {
             "column": "Majority",
             "type": "column"
            }
           ],
           "function": "SUM",
           "type": "function"
          },
          {
           "column": "Result",
           "type": "column"
          }
         ]
        }
       },
       "submitTime": 0,
       "subtype": "tableResultSubCmd.visualization",
       "tableResultIndex": 0,
       "tableResultSettingsMap": {},
       "useConsistentColors": false,
       "version": "CommandV1",
       "width": "auto",
       "workflows": null,
       "xColumns": null,
       "yColumns": null
      }
     },
     "output_type": "display_data"
    }
   ],
   "source": [
    "labmajority_under1000_24 = ByConst24_England.filter((ByConst24_England[\"First party\"] == \"Lab\"))\\\n",
    "                                          .filter(ByConst24_England[\"Majority\"] < 1000)\\\n",
    "                                          .select(\"Constituency name\", \"Region name\", \"Result\", \"Majority\")\n",
    "\n",
    "weak_regions24 = labmajority_under1000_24.groupBy(\"Region name\")\\\n",
    "                                .agg(count(\"*\").alias(\"Slim majorities (under 1000)\"))\\\n",
    "                                .orderBy(\"Slim majorities (under 1000)\", ascending=False)\n",
    "\n",
    "display(labmajority_under1000_24)\n",
    "display(weak_regions24)"
   ]
  },
  {
   "cell_type": "markdown",
   "metadata": {
    "application/vnd.databricks.v1+cell": {
     "cellMetadata": {
      "byteLimit": 2048000,
      "rowLimit": 10000
     },
     "inputWidgets": {},
     "nuid": "399fb99b-fea1-4722-aad5-0ea399050e56",
     "showTitle": false,
     "tableResultSettingsMap": {},
     "title": ""
    }
   },
   "source": [
    "###Constituencies and Regions where Labour majority is more than 15000 votes (safer seats)"
   ]
  },
  {
   "cell_type": "code",
   "execution_count": 0,
   "metadata": {
    "application/vnd.databricks.v1+cell": {
     "cellMetadata": {
      "byteLimit": 2048000,
      "rowLimit": 10000
     },
     "inputWidgets": {},
     "nuid": "afad2f89-15c1-4e61-8e22-4a8c2ed34619",
     "showTitle": false,
     "tableResultSettingsMap": {},
     "title": ""
    }
   },
   "outputs": [
    {
     "output_type": "display_data",
     "data": {
      "text/plain": [
       "Databricks visualization. Run in Databricks to view."
      ]
     },
     "metadata": {
      "application/vnd.databricks.v1.subcommand+json": {
       "baseErrorDetails": null,
       "bindings": {},
       "collapsed": false,
       "command": "%python\n__backend_agg_display_orig = display\n__backend_agg_dfs = []\ndef __backend_agg_display_new(df):\n    __backend_agg_df_modules = [\"pandas.core.frame\", \"databricks.koalas.frame\", \"pyspark.sql.dataframe\", \"pyspark.pandas.frame\", \"pyspark.sql.connect.dataframe\"]\n    if (type(df).__module__ in __backend_agg_df_modules and type(df).__name__ == 'DataFrame') or isinstance(df, list):\n        __backend_agg_dfs.append(df)\n\ndisplay = __backend_agg_display_new\n\ndef __backend_agg_user_code_fn():\n    import base64\n    exec(base64.standard_b64decode(\"bGFibWFqb3JpdHlfb3ZlcjE1a18yNCA9IEJ5Q29uc3QyNF9FbmdsYW5kLmZpbHRlcigoQnlDb25zdDI0X0VuZ2xhbmRbIkZpcnN0IHBhcnR5Il0gPT0gIkxhYiIpKVwKICAgICAgICAgICAgICAgICAgICAgICAgICAgICAgICAgICAgICAgICAgLmZpbHRlcihCeUNvbnN0MjRfRW5nbGFuZFsiTWFqb3JpdHkiXSA+IDE1MDAwKVwKICAgICAgICAgICAgICAgICAgICAgICAgICAgICAgICAgICAgICAgICAgLnNlbGVjdCgiQ29uc3RpdHVlbmN5IG5hbWUiLCAiUmVnaW9uIG5hbWUiLCAiUmVzdWx0IiwgIk1ham9yaXR5IikKCnN0cm9uZ19yZWdpb25zMjQgPSBsYWJtYWpvcml0eV9vdmVyMTVrXzI0Lmdyb3VwQnkoIlJlZ2lvbiBuYW1lIilcCiAgICAgICAgICAgICAgICAgICAgICAgICAgICAgICAgLmFnZyhjb3VudCgiKiIpLmFsaWFzKCJTdHJvbmcgbWFqb3JpdGllcyAob3ZlciAxNWspIikpXAogICAgICAgICAgICAgICAgICAgICAgICAgICAgICAgIC5vcmRlckJ5KCJTdHJvbmcgbWFqb3JpdGllcyAob3ZlciAxNWspIiwgYXNjZW5kaW5nPUZhbHNlKSAgICAgICAgICAgICAgICAgICAgICAgICAgICAgICAgICAgICAgICAgIAoKZGlzcGxheShsYWJtYWpvcml0eV9vdmVyMTVrXzI0KQpkaXNwbGF5KHN0cm9uZ19yZWdpb25zMjQp\").decode())\n\ntry:\n    # run user code\n    __backend_agg_user_code_fn()\n\n    #reset display function\n    display = __backend_agg_display_orig\n\n    if len(__backend_agg_dfs) > 1:\n        # create a temp view\n        if type(__backend_agg_dfs[1]).__module__ == \"databricks.koalas.frame\":\n            # koalas dataframe\n            __backend_agg_dfs[1].to_spark().createOrReplaceTempView(\"DatabricksView6781f81\")\n        elif type(__backend_agg_dfs[1]).__module__ == \"pandas.core.frame\" or isinstance(__backend_agg_dfs[1], list):\n            # pandas dataframe\n            spark.createDataFrame(__backend_agg_dfs[1]).createOrReplaceTempView(\"DatabricksView6781f81\")\n        else:\n            __backend_agg_dfs[1].createOrReplaceTempView(\"DatabricksView6781f81\")\n        #run backend agg\n        display(spark.sql(\"\"\"WITH q AS (select * from DatabricksView6781f81) SELECT `Region name`,SUM(`Strong majorities (over 15k)`) `column_f29e72bc409`,`Region name` FROM q GROUP BY `Region name`\"\"\"))\n    else:\n        displayHTML(\"dataframe no longer exists. If you're using dataframe.display(), use display(dataframe) instead.\")\n\n\nfinally:\n    spark.sql(\"drop view if exists DatabricksView6781f81\")\n    display = __backend_agg_display_orig\n    del __backend_agg_display_new\n    del __backend_agg_display_orig\n    del __backend_agg_dfs\n    del __backend_agg_user_code_fn\n\n",
       "commandTitle": "No. of strong majorities (over 15k) by region",
       "commandType": "auto",
       "commandVersion": 0,
       "commentThread": [],
       "commentsVisible": false,
       "contentSha256Hex": null,
       "customPlotOptions": {
        "redashChart": [
         {
          "key": "type",
          "value": "CHART"
         },
         {
          "key": "options",
          "value": {
           "alignYAxesAtZero": true,
           "coefficient": 1,
           "columnConfigurationMap": {
            "series": {
             "column": "Region name",
             "id": "column_f29e72bc411"
            },
            "x": {
             "column": "Region name",
             "id": "column_f29e72bc407"
            },
            "y": [
             {
              "column": "Strong majorities (over 15k)",
              "id": "column_f29e72bc409",
              "transform": "SUM"
             }
            ]
           },
           "dateTimeFormat": "DD/MM/YYYY HH:mm",
           "direction": {
            "type": "counterclockwise"
           },
           "error_y": {
            "type": "data",
            "visible": true
           },
           "globalSeriesType": "column",
           "isAggregationOn": true,
           "legend": {
            "traceorder": "normal"
           },
           "missingValuesAsZero": true,
           "numBins": 10,
           "numberFormat": "0,0.[00000]",
           "percentFormat": "0[.]00%",
           "series": {
            "error_y": {
             "type": "data",
             "visible": true
            },
            "stacking": null
           },
           "seriesOptions": {
            "column_f29e72bc404": {
             "name": "Strong majorities (over 15k)",
             "type": "column",
             "yAxis": 0
            },
            "column_f29e72bc409": {
             "type": "column",
             "yAxis": 0
            }
           },
           "showDataLabels": false,
           "sizemode": "diameter",
           "sortX": true,
           "sortY": true,
           "swappedAxes": false,
           "textFormat": "",
           "useAggregationsUi": true,
           "valuesOptions": {},
           "version": 2,
           "xAxis": {
            "labels": {
             "enabled": true
            },
            "type": "-"
           },
           "yAxis": [
            {
             "type": "-"
            },
            {
             "opposite": true,
             "type": "-"
            }
           ]
          }
         }
        ]
       },
       "datasetPreviewNameToCmdIdMap": {},
       "diffDeletes": [],
       "diffInserts": [],
       "displayType": "redashChart",
       "error": null,
       "errorDetails": null,
       "errorSummary": null,
       "errorTraceType": null,
       "finishTime": 0,
       "globalVars": {},
       "guid": "",
       "height": "auto",
       "hideCommandCode": false,
       "hideCommandResult": false,
       "iPythonMetadata": null,
       "inputWidgets": {},
       "isLockedInExamMode": false,
       "latestUser": "a user",
       "latestUserId": null,
       "listResultMetadata": null,
       "metadata": {},
       "nuid": "3d2e1934-cf8c-488e-bc69-6d801776954d",
       "origId": 0,
       "parentHierarchy": [],
       "pivotAggregation": null,
       "pivotColumns": null,
       "position": 28.8515625,
       "resultDbfsErrorMessage": null,
       "resultDbfsStatus": "INLINED_IN_TREE",
       "results": null,
       "showCommandTitle": false,
       "startTime": 0,
       "state": "input",
       "streamStates": {},
       "subcommandOptions": {
        "queryPlan": {
         "groups": [
          {
           "column": "Region name",
           "type": "column"
          },
          {
           "column": "Region name",
           "type": "column"
          }
         ],
         "selects": [
          {
           "column": "Region name",
           "type": "column"
          },
          {
           "alias": "column_f29e72bc409",
           "args": [
            {
             "column": "Strong majorities (over 15k)",
             "type": "column"
            }
           ],
           "function": "SUM",
           "type": "function"
          },
          {
           "column": "Region name",
           "type": "column"
          }
         ]
        }
       },
       "submitTime": 0,
       "subtype": "tableResultSubCmd.visualization",
       "tableResultIndex": 1,
       "tableResultSettingsMap": {},
       "useConsistentColors": false,
       "version": "CommandV1",
       "width": "auto",
       "workflows": null,
       "xColumns": null,
       "yColumns": null
      }
     },
     "output_type": "display_data"
    },
    {
     "output_type": "display_data",
     "data": {
      "text/plain": [
       "Databricks visualization. Run in Databricks to view."
      ]
     },
     "metadata": {
      "application/vnd.databricks.v1.subcommand+json": {
       "baseErrorDetails": null,
       "bindings": {},
       "collapsed": false,
       "command": "%python\n__backend_agg_display_orig = display\n__backend_agg_dfs = []\ndef __backend_agg_display_new(df):\n    __backend_agg_df_modules = [\"pandas.core.frame\", \"databricks.koalas.frame\", \"pyspark.sql.dataframe\", \"pyspark.pandas.frame\", \"pyspark.sql.connect.dataframe\"]\n    if (type(df).__module__ in __backend_agg_df_modules and type(df).__name__ == 'DataFrame') or isinstance(df, list):\n        __backend_agg_dfs.append(df)\n\ndisplay = __backend_agg_display_new\n\ndef __backend_agg_user_code_fn():\n    import base64\n    exec(base64.standard_b64decode(\"bGFibWFqb3JpdHlfb3ZlcjE1a18yNCA9IEJ5Q29uc3QyNF9FbmdsYW5kLmZpbHRlcigoQnlDb25zdDI0X0VuZ2xhbmRbIkZpcnN0IHBhcnR5Il0gPT0gIkxhYiIpKVwKICAgICAgICAgICAgICAgICAgICAgICAgICAgICAgICAgICAgICAgICAgLmZpbHRlcihCeUNvbnN0MjRfRW5nbGFuZFsiTWFqb3JpdHkiXSA+IDE1MDAwKVwKICAgICAgICAgICAgICAgICAgICAgICAgICAgICAgICAgICAgICAgICAgLnNlbGVjdCgiQ29uc3RpdHVlbmN5IG5hbWUiLCAiUmVnaW9uIG5hbWUiLCAiUmVzdWx0IiwgIk1ham9yaXR5IikKCnN0cm9uZ19yZWdpb25zMjQgPSBsYWJtYWpvcml0eV9vdmVyMTVrXzI0Lmdyb3VwQnkoIlJlZ2lvbiBuYW1lIilcCiAgICAgICAgICAgICAgICAgICAgICAgICAgICAgICAgLmFnZyhjb3VudCgiKiIpLmFsaWFzKCJTdHJvbmcgbWFqb3JpdGllcyAob3ZlciAxNWspIikpXAogICAgICAgICAgICAgICAgICAgICAgICAgICAgICAgIC5vcmRlckJ5KCJTdHJvbmcgbWFqb3JpdGllcyAob3ZlciAxNWspIiwgYXNjZW5kaW5nPUZhbHNlKSAgICAgICAgICAgICAgICAgICAgICAgICAgICAgICAgICAgICAgICAgIAoKZGlzcGxheShsYWJtYWpvcml0eV9vdmVyMTVrXzI0KQpkaXNwbGF5KHN0cm9uZ19yZWdpb25zMjQp\").decode())\n\ntry:\n    # run user code\n    __backend_agg_user_code_fn()\n\n    #reset display function\n    display = __backend_agg_display_orig\n\n    if len(__backend_agg_dfs) > 0:\n        # create a temp view\n        if type(__backend_agg_dfs[0]).__module__ == \"databricks.koalas.frame\":\n            # koalas dataframe\n            __backend_agg_dfs[0].to_spark().createOrReplaceTempView(\"DatabricksView6f6e369\")\n        elif type(__backend_agg_dfs[0]).__module__ == \"pandas.core.frame\" or isinstance(__backend_agg_dfs[0], list):\n            # pandas dataframe\n            spark.createDataFrame(__backend_agg_dfs[0]).createOrReplaceTempView(\"DatabricksView6f6e369\")\n        else:\n            __backend_agg_dfs[0].createOrReplaceTempView(\"DatabricksView6f6e369\")\n        #run backend agg\n        display(spark.sql(\"\"\"WITH q AS (select * from DatabricksView6f6e369) SELECT `Constituency name`,SUM(`Majority`) `column_f29e72bc414`,`Result` FROM q GROUP BY `Constituency name`,`Result`\"\"\"))\n    else:\n        displayHTML(\"dataframe no longer exists. If you're using dataframe.display(), use display(dataframe) instead.\")\n\n\nfinally:\n    spark.sql(\"drop view if exists DatabricksView6f6e369\")\n    display = __backend_agg_display_orig\n    del __backend_agg_display_new\n    del __backend_agg_display_orig\n    del __backend_agg_dfs\n    del __backend_agg_user_code_fn\n\n",
       "commandTitle": "Holds where majority is > 15k",
       "commandType": "auto",
       "commandVersion": 0,
       "commentThread": [],
       "commentsVisible": false,
       "contentSha256Hex": null,
       "customPlotOptions": {
        "redashChart": [
         {
          "key": "type",
          "value": "CHART"
         },
         {
          "key": "options",
          "value": {
           "alignYAxesAtZero": true,
           "coefficient": 1,
           "columnConfigurationMap": {
            "series": {
             "column": "Result",
             "id": "column_f29e72bc425"
            },
            "x": {
             "column": "Constituency name",
             "id": "column_f29e72bc424"
            },
            "y": [
             {
              "column": "Majority",
              "id": "column_f29e72bc414",
              "transform": "SUM"
             }
            ]
           },
           "dateTimeFormat": "DD/MM/YYYY HH:mm",
           "direction": {
            "type": "counterclockwise"
           },
           "error_y": {
            "type": "data",
            "visible": true
           },
           "globalSeriesType": "area",
           "isAggregationOn": true,
           "legend": {
            "traceorder": "normal"
           },
           "missingValuesAsZero": true,
           "numberFormat": "0,0.[00000]",
           "percentFormat": "0[.]00%",
           "series": {
            "error_y": {
             "type": "data",
             "visible": true
            },
            "stacking": null
           },
           "seriesOptions": {
            "column_f29e72bc414": {
             "type": "area",
             "yAxis": 0
            }
           },
           "showDataLabels": false,
           "sizemode": "diameter",
           "sortX": true,
           "sortY": true,
           "swappedAxes": false,
           "textFormat": "",
           "useAggregationsUi": true,
           "valuesOptions": {},
           "version": 2,
           "xAxis": {
            "labels": {
             "enabled": true
            },
            "type": "-"
           },
           "yAxis": [
            {
             "type": "-"
            },
            {
             "opposite": true,
             "type": "-"
            }
           ]
          }
         }
        ]
       },
       "datasetPreviewNameToCmdIdMap": {},
       "diffDeletes": [],
       "diffInserts": [],
       "displayType": "redashChart",
       "error": null,
       "errorDetails": null,
       "errorSummary": null,
       "errorTraceType": null,
       "finishTime": 0,
       "globalVars": {},
       "guid": "",
       "height": "auto",
       "hideCommandCode": false,
       "hideCommandResult": false,
       "iPythonMetadata": null,
       "inputWidgets": {},
       "isLockedInExamMode": false,
       "latestUser": "a user",
       "latestUserId": null,
       "listResultMetadata": null,
       "metadata": {},
       "nuid": "46182267-92bf-43d4-82b3-6be85b2bd6a8",
       "origId": 0,
       "parentHierarchy": [],
       "pivotAggregation": null,
       "pivotColumns": null,
       "position": 28.8515625,
       "resultDbfsErrorMessage": null,
       "resultDbfsStatus": "INLINED_IN_TREE",
       "results": null,
       "showCommandTitle": false,
       "startTime": 0,
       "state": "input",
       "streamStates": {},
       "subcommandOptions": {
        "queryPlan": {
         "groups": [
          {
           "column": "Constituency name",
           "type": "column"
          },
          {
           "column": "Result",
           "type": "column"
          }
         ],
         "selects": [
          {
           "column": "Constituency name",
           "type": "column"
          },
          {
           "alias": "column_f29e72bc414",
           "args": [
            {
             "column": "Majority",
             "type": "column"
            }
           ],
           "function": "SUM",
           "type": "function"
          },
          {
           "column": "Result",
           "type": "column"
          }
         ]
        }
       },
       "submitTime": 0,
       "subtype": "tableResultSubCmd.visualization",
       "tableResultIndex": 0,
       "tableResultSettingsMap": {},
       "useConsistentColors": false,
       "version": "CommandV1",
       "width": "auto",
       "workflows": null,
       "xColumns": null,
       "yColumns": null
      }
     },
     "output_type": "display_data"
    }
   ],
   "source": [
    "labmajority_over15k_24 = ByConst24_England.filter((ByConst24_England[\"First party\"] == \"Lab\"))\\\n",
    "                                          .filter(ByConst24_England[\"Majority\"] > 15000)\\\n",
    "                                          .select(\"Constituency name\", \"Region name\", \"Result\", \"Majority\")\n",
    "\n",
    "strong_regions24 = labmajority_over15k_24.groupBy(\"Region name\")\\\n",
    "                                .agg(count(\"*\").alias(\"Strong majorities (over 15k)\"))\\\n",
    "                                .orderBy(\"Strong majorities (over 15k)\", ascending=False)                                          \n",
    "\n",
    "display(labmajority_over15k_24)\n",
    "display(strong_regions24)"
   ]
  },
  {
   "cell_type": "markdown",
   "metadata": {
    "application/vnd.databricks.v1+cell": {
     "cellMetadata": {
      "byteLimit": 2048000,
      "rowLimit": 10000
     },
     "inputWidgets": {},
     "nuid": "17c81d7c-58b0-448f-81c2-d9d6865406e8",
     "showTitle": false,
     "tableResultSettingsMap": {},
     "title": ""
    }
   },
   "source": [
    "###Where has Labour's vote increased?"
   ]
  },
  {
   "cell_type": "code",
   "execution_count": 0,
   "metadata": {
    "application/vnd.databricks.v1+cell": {
     "cellMetadata": {
      "byteLimit": 2048000,
      "rowLimit": 10000
     },
     "inputWidgets": {},
     "nuid": "08c93eb7-bf7c-44cd-9b41-87253dae3d25",
     "showTitle": false,
     "tableResultSettingsMap": {},
     "title": ""
    }
   },
   "outputs": [
    {
     "output_type": "display_data",
     "data": {
      "text/plain": [
       "Databricks visualization. Run in Databricks to view."
      ]
     },
     "metadata": {
      "application/vnd.databricks.v1.subcommand+json": {
       "baseErrorDetails": null,
       "bindings": {},
       "collapsed": false,
       "command": "%python\n__backend_agg_display_orig = display\n__backend_agg_dfs = []\ndef __backend_agg_display_new(df):\n    __backend_agg_df_modules = [\"pandas.core.frame\", \"databricks.koalas.frame\", \"pyspark.sql.dataframe\", \"pyspark.pandas.frame\", \"pyspark.sql.connect.dataframe\"]\n    if (type(df).__module__ in __backend_agg_df_modules and type(df).__name__ == 'DataFrame') or isinstance(df, list):\n        __backend_agg_dfs.append(df)\n\ndisplay = __backend_agg_display_new\n\ndef __backend_agg_user_code_fn():\n    import base64\n    exec(base64.standard_b64decode(\"bGFiX21ham9yaXRpZXNfY3Jvc3MgPSBCeUNvbnN0MjRfRW5nbGFuZC5hbGlhcygiYjI0IilcCiAgICAuZmlsdGVyKGNvbCgiYjI0LkZpcnN0IHBhcnR5IikgPT0gIkxhYiIpXAogICAgLmpvaW4oQnlDb25zdDE5X0VuZ2xhbmQuYWxpYXMoImIxOSIpLCBjb2woImIyNC5Db25zdGl0dWVuY3kgbmFtZSIpID09IGNvbCgiYjE5LkNvbnN0aXR1ZW5jeSBuYW1lIikpXAogICAgLnNlbGVjdCgKICAgICAgICBjb2woImIyNC5Db25zdGl0dWVuY3kgbmFtZSIpLAogICAgICAgIGNvbCgiYjI0LlJlZ2lvbiBuYW1lIiksCiAgICAgICAgY29sKCJiMjQuUmVzdWx0IiksCiAgICAgICAgY29sKCJiMTkuTWFqb3JpdHkiKS5hbGlhcygiTWFqb3JpdHlfMTkiKSwKICAgICAgICBjb2woImIyNC5NYWpvcml0eSIpLmFsaWFzKCJNYWpvcml0eV8yNCIpLAogICAgICAgIHdoZW4oY29sKCJiMjQuTWFqb3JpdHkiKSA+IGNvbCgiYjE5Lk1ham9yaXR5IiksICJyaXNlIikub3RoZXJ3aXNlKCJmYWxsIikuYWxpYXMoIkNoYW5nZSIpCiAgICApCgpvcmRlcmVkX2xhYl9nYWlucyA9IGxhYl9tYWpvcml0aWVzX2Nyb3NzLm9yZGVyQnkoIk1ham9yaXR5XzI0IiwgYXNjZW5kaW5nPUZhbHNlKQoKZGlzcGxheShvcmRlcmVkX2xhYl9nYWlucyk=\").decode())\n\ntry:\n    # run user code\n    __backend_agg_user_code_fn()\n\n    #reset display function\n    display = __backend_agg_display_orig\n\n    if len(__backend_agg_dfs) > 0:\n        # create a temp view\n        if type(__backend_agg_dfs[0]).__module__ == \"databricks.koalas.frame\":\n            # koalas dataframe\n            __backend_agg_dfs[0].to_spark().createOrReplaceTempView(\"DatabricksView6024247\")\n        elif type(__backend_agg_dfs[0]).__module__ == \"pandas.core.frame\" or isinstance(__backend_agg_dfs[0], list):\n            # pandas dataframe\n            spark.createDataFrame(__backend_agg_dfs[0]).createOrReplaceTempView(\"DatabricksView6024247\")\n        else:\n            __backend_agg_dfs[0].createOrReplaceTempView(\"DatabricksView6024247\")\n        #run backend agg\n        display(spark.sql(\"\"\"WITH q AS (select * from DatabricksView6024247) SELECT `Constituency name`,SUM(`Majority_24`) `column_f29e72bc586`,SUM(`Majority_19`) `column_f29e72bc589` FROM q GROUP BY `Constituency name`\"\"\"))\n    else:\n        displayHTML(\"dataframe no longer exists. If you're using dataframe.display(), use display(dataframe) instead.\")\n\n\nfinally:\n    spark.sql(\"drop view if exists DatabricksView6024247\")\n    display = __backend_agg_display_orig\n    del __backend_agg_display_new\n    del __backend_agg_display_orig\n    del __backend_agg_dfs\n    del __backend_agg_user_code_fn\n\n",
       "commandTitle": "Majority comparison across won constituencies",
       "commandType": "auto",
       "commandVersion": 0,
       "commentThread": [],
       "commentsVisible": false,
       "contentSha256Hex": null,
       "customPlotOptions": {
        "redashChart": [
         {
          "key": "type",
          "value": "CHART"
         },
         {
          "key": "options",
          "value": {
           "alignYAxesAtZero": true,
           "coefficient": 1,
           "columnConfigurationMap": {
            "x": {
             "column": "Constituency name",
             "id": "column_f29e72bc584"
            },
            "y": [
             {
              "column": "Majority_24",
              "id": "column_f29e72bc586",
              "transform": "SUM"
             },
             {
              "column": "Majority_19",
              "id": "column_f29e72bc589",
              "transform": "SUM"
             }
            ]
           },
           "dateTimeFormat": "DD/MM/YYYY HH:mm",
           "direction": {
            "type": "counterclockwise"
           },
           "error_y": {
            "type": "data",
            "visible": true
           },
           "globalSeriesType": "line",
           "isAggregationOn": true,
           "legend": {
            "traceorder": "normal"
           },
           "missingValuesAsZero": true,
           "numberFormat": "0,0.[00000]",
           "percentFormat": "0[.]00%",
           "series": {
            "error_y": {
             "type": "data",
             "visible": true
            },
            "stacking": null
           },
           "seriesOptions": {
            "column_f29e72bc586": {
             "color": "#FFAB00",
             "type": "line",
             "yAxis": 0
            },
            "column_f29e72bc589": {
             "color": "#077A9D",
             "type": "line",
             "yAxis": 0
            }
           },
           "showDataLabels": false,
           "sizemode": "diameter",
           "sortX": true,
           "sortY": true,
           "swappedAxes": false,
           "textFormat": "",
           "useAggregationsUi": true,
           "valuesOptions": {},
           "version": 2,
           "xAxis": {
            "labels": {
             "enabled": true
            },
            "type": "-"
           },
           "yAxis": [
            {
             "type": "-"
            },
            {
             "opposite": true,
             "type": "-"
            }
           ]
          }
         }
        ]
       },
       "datasetPreviewNameToCmdIdMap": {},
       "diffDeletes": [],
       "diffInserts": [],
       "displayType": "redashChart",
       "error": null,
       "errorDetails": null,
       "errorSummary": null,
       "errorTraceType": null,
       "finishTime": 0,
       "globalVars": {},
       "guid": "",
       "height": "auto",
       "hideCommandCode": false,
       "hideCommandResult": false,
       "iPythonMetadata": null,
       "inputWidgets": {},
       "isLockedInExamMode": false,
       "latestUser": "a user",
       "latestUserId": null,
       "listResultMetadata": null,
       "metadata": {},
       "nuid": "10588c1d-3619-46ba-ae2e-065f1b2a3501",
       "origId": 0,
       "parentHierarchy": [],
       "pivotAggregation": null,
       "pivotColumns": null,
       "position": 30.8515625,
       "resultDbfsErrorMessage": null,
       "resultDbfsStatus": "INLINED_IN_TREE",
       "results": null,
       "showCommandTitle": false,
       "startTime": 0,
       "state": "input",
       "streamStates": {},
       "subcommandOptions": {
        "queryPlan": {
         "groups": [
          {
           "column": "Constituency name",
           "type": "column"
          }
         ],
         "selects": [
          {
           "column": "Constituency name",
           "type": "column"
          },
          {
           "alias": "column_f29e72bc586",
           "args": [
            {
             "column": "Majority_24",
             "type": "column"
            }
           ],
           "function": "SUM",
           "type": "function"
          },
          {
           "alias": "column_f29e72bc589",
           "args": [
            {
             "column": "Majority_19",
             "type": "column"
            }
           ],
           "function": "SUM",
           "type": "function"
          }
         ]
        }
       },
       "submitTime": 0,
       "subtype": "tableResultSubCmd.visualization",
       "tableResultIndex": 0,
       "tableResultSettingsMap": {},
       "useConsistentColors": false,
       "version": "CommandV1",
       "width": "auto",
       "workflows": null,
       "xColumns": null,
       "yColumns": null
      }
     },
     "output_type": "display_data"
    }
   ],
   "source": [
    "lab_majorities_cross = ByConst24_England.alias(\"b24\")\\\n",
    "    .filter(col(\"b24.First party\") == \"Lab\")\\\n",
    "    .join(ByConst19_England.alias(\"b19\"), col(\"b24.Constituency name\") == col(\"b19.Constituency name\"))\\\n",
    "    .select(\n",
    "        col(\"b24.Constituency name\"),\n",
    "        col(\"b24.Region name\"),\n",
    "        col(\"b24.Result\"),\n",
    "        col(\"b19.Majority\").alias(\"Majority_19\"),\n",
    "        col(\"b24.Majority\").alias(\"Majority_24\"),\n",
    "        when(col(\"b24.Majority\") > col(\"b19.Majority\"), \"rise\").otherwise(\"fall\").alias(\"Change\")\n",
    "    )\n",
    "\n",
    "ordered_lab_gains = lab_majorities_cross.orderBy(\"Majority_24\", ascending=False)\n",
    "\n",
    "display(ordered_lab_gains)"
   ]
  },
  {
   "cell_type": "markdown",
   "metadata": {
    "application/vnd.databricks.v1+cell": {
     "cellMetadata": {},
     "inputWidgets": {},
     "nuid": "bcbdaee9-9c86-40a0-a608-32af0e2faa0b",
     "showTitle": false,
     "tableResultSettingsMap": {},
     "title": ""
    }
   },
   "source": [
    "###Vote gains by region"
   ]
  },
  {
   "cell_type": "code",
   "execution_count": 0,
   "metadata": {
    "application/vnd.databricks.v1+cell": {
     "cellMetadata": {
      "byteLimit": 2048000,
      "rowLimit": 10000
     },
     "inputWidgets": {},
     "nuid": "7302ee6b-1fa9-4819-a785-a8f7ce239885",
     "showTitle": false,
     "tableResultSettingsMap": {},
     "title": ""
    }
   },
   "outputs": [
    {
     "output_type": "display_data",
     "data": {
      "text/plain": [
       "Databricks visualization. Run in Databricks to view."
      ]
     },
     "metadata": {
      "application/vnd.databricks.v1.subcommand+json": {
       "baseErrorDetails": null,
       "bindings": {},
       "collapsed": false,
       "command": "%python\n__backend_agg_display_orig = display\n__backend_agg_dfs = []\ndef __backend_agg_display_new(df):\n    __backend_agg_df_modules = [\"pandas.core.frame\", \"databricks.koalas.frame\", \"pyspark.sql.dataframe\", \"pyspark.pandas.frame\", \"pyspark.sql.connect.dataframe\"]\n    if (type(df).__module__ in __backend_agg_df_modules and type(df).__name__ == 'DataFrame') or isinstance(df, list):\n        __backend_agg_dfs.append(df)\n\ndisplay = __backend_agg_display_new\n\ndef __backend_agg_user_code_fn():\n    import base64\n    exec(base64.standard_b64decode(\"cmVnaW9uX21hal9nYWlucyA9IGxhYl9tYWpvcml0aWVzX2Nyb3NzLmdyb3VwQnkoIlJlZ2lvbiBuYW1lIiwgIkNoYW5nZSIpLmFnZyhjb3VudCgiKiIpLmFsaWFzKCJDb3VudCIpKQoKZGlzcGxheShyZWdpb25fbWFqX2dhaW5zKQ==\").decode())\n\ntry:\n    # run user code\n    __backend_agg_user_code_fn()\n\n    #reset display function\n    display = __backend_agg_display_orig\n\n    if len(__backend_agg_dfs) > 0:\n        # create a temp view\n        if type(__backend_agg_dfs[0]).__module__ == \"databricks.koalas.frame\":\n            # koalas dataframe\n            __backend_agg_dfs[0].to_spark().createOrReplaceTempView(\"DatabricksViewd06bc83\")\n        elif type(__backend_agg_dfs[0]).__module__ == \"pandas.core.frame\" or isinstance(__backend_agg_dfs[0], list):\n            # pandas dataframe\n            spark.createDataFrame(__backend_agg_dfs[0]).createOrReplaceTempView(\"DatabricksViewd06bc83\")\n        else:\n            __backend_agg_dfs[0].createOrReplaceTempView(\"DatabricksViewd06bc83\")\n        #run backend agg\n        display(spark.sql(\"\"\"WITH q AS (select * from DatabricksViewd06bc83) SELECT `Region name`,`Change`,SUM(`Count`) `column_f29e72bc581` FROM q GROUP BY `Change`,`Region name`\"\"\"))\n    else:\n        displayHTML(\"dataframe no longer exists. If you're using dataframe.display(), use display(dataframe) instead.\")\n\n\nfinally:\n    spark.sql(\"drop view if exists DatabricksViewd06bc83\")\n    display = __backend_agg_display_orig\n    del __backend_agg_display_new\n    del __backend_agg_display_orig\n    del __backend_agg_dfs\n    del __backend_agg_user_code_fn\n\n",
       "commandTitle": "Majority rises and falls per region",
       "commandType": "auto",
       "commandVersion": 0,
       "commentThread": [],
       "commentsVisible": false,
       "contentSha256Hex": null,
       "customPlotOptions": {
        "redashChart": [
         {
          "key": "type",
          "value": "CHART"
         },
         {
          "key": "options",
          "value": {
           "alignYAxesAtZero": true,
           "coefficient": 1,
           "columnConfigurationMap": {
            "series": {
             "column": "Change",
             "id": "column_f29e72bc580"
            },
            "x": {
             "column": "Region name",
             "id": "column_f29e72bc579"
            },
            "y": [
             {
              "column": "Count",
              "id": "column_f29e72bc581",
              "transform": "SUM"
             }
            ]
           },
           "dateTimeFormat": "DD/MM/YYYY HH:mm",
           "direction": {
            "type": "counterclockwise"
           },
           "error_y": {
            "type": "data",
            "visible": true
           },
           "globalSeriesType": "column",
           "legend": {
            "traceorder": "normal"
           },
           "missingValuesAsZero": true,
           "numberFormat": "0,0.[00000]",
           "percentFormat": "0[.]00%",
           "series": {
            "error_y": {
             "type": "data",
             "visible": true
            },
            "stacking": null
           },
           "seriesOptions": {
            "column_f29e72bc581": {
             "name": "Count",
             "type": "column",
             "yAxis": 0
            }
           },
           "showDataLabels": false,
           "sizemode": "diameter",
           "sortX": true,
           "sortY": true,
           "swappedAxes": false,
           "textFormat": "",
           "useAggregationsUi": true,
           "valuesOptions": {},
           "version": 2,
           "xAxis": {
            "labels": {
             "enabled": true
            },
            "type": "-"
           },
           "yAxis": [
            {
             "type": "-"
            },
            {
             "opposite": true,
             "type": "-"
            }
           ]
          }
         }
        ]
       },
       "datasetPreviewNameToCmdIdMap": {},
       "diffDeletes": [],
       "diffInserts": [],
       "displayType": "redashChart",
       "error": null,
       "errorDetails": null,
       "errorSummary": null,
       "errorTraceType": null,
       "finishTime": 0,
       "globalVars": {},
       "guid": "",
       "height": "auto",
       "hideCommandCode": false,
       "hideCommandResult": false,
       "iPythonMetadata": null,
       "inputWidgets": {},
       "isLockedInExamMode": false,
       "latestUser": "a user",
       "latestUserId": null,
       "listResultMetadata": null,
       "metadata": {},
       "nuid": "274f4c64-36ef-4d19-80f3-ee08cadea82f",
       "origId": 0,
       "parentHierarchy": [],
       "pivotAggregation": null,
       "pivotColumns": null,
       "position": 31.8515625,
       "resultDbfsErrorMessage": null,
       "resultDbfsStatus": "INLINED_IN_TREE",
       "results": null,
       "showCommandTitle": false,
       "startTime": 0,
       "state": "input",
       "streamStates": {},
       "subcommandOptions": {
        "queryPlan": {
         "groups": [
          {
           "column": "Region name",
           "type": "column"
          },
          {
           "column": "Change",
           "type": "column"
          }
         ],
         "selects": [
          {
           "column": "Region name",
           "type": "column"
          },
          {
           "column": "Change",
           "type": "column"
          },
          {
           "alias": "column_f29e72bc581",
           "args": [
            {
             "column": "Count",
             "type": "column"
            }
           ],
           "function": "SUM",
           "type": "function"
          }
         ]
        }
       },
       "submitTime": 0,
       "subtype": "tableResultSubCmd.visualization",
       "tableResultIndex": 0,
       "tableResultSettingsMap": {},
       "useConsistentColors": false,
       "version": "CommandV1",
       "width": "auto",
       "workflows": null,
       "xColumns": null,
       "yColumns": null
      }
     },
     "output_type": "display_data"
    }
   ],
   "source": [
    "region_maj_gains = lab_majorities_cross.groupBy(\"Region name\", \"Change\").agg(count(\"*\").alias(\"Count\"))\n",
    "\n",
    "display(region_maj_gains)"
   ]
  }
 ],
 "metadata": {
  "application/vnd.databricks.v1+notebook": {
   "computePreferences": null,
   "dashboards": [],
   "environmentMetadata": {
    "base_environment": "",
    "environment_version": "2"
   },
   "inputWidgetPreferences": null,
   "language": "python",
   "notebookMetadata": {
    "pythonIndentUnit": 4
   },
   "notebookName": "Electoral Notebook",
   "widgets": {}
  },
  "language_info": {
   "name": "python"
  }
 },
 "nbformat": 4,
 "nbformat_minor": 0
}
